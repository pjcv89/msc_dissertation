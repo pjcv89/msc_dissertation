{
 "cells": [
  {
   "cell_type": "code",
   "execution_count": 2,
   "metadata": {},
   "outputs": [
    {
     "name": "stdout",
     "output_type": "stream",
     "text": [
      "Populating the interactive namespace from numpy and matplotlib\n"
     ]
    }
   ],
   "source": [
    "%pylab inline\n",
    "import logging\n",
    "logger = logging.getLogger()\n",
    "logger.setLevel(logging.ERROR)\n",
    "from IPython.display import clear_output\n",
    "import time\n",
    "#from time import sleep\n",
    "import numpy as np\n",
    "import math\n",
    "import gym"
   ]
  },
  {
   "cell_type": "code",
   "execution_count": 3,
   "metadata": {},
   "outputs": [],
   "source": [
    "#from myfrozen import frozen_lake\n",
    "import myfrozen"
   ]
  },
  {
   "cell_type": "code",
   "execution_count": 20,
   "metadata": {},
   "outputs": [],
   "source": [
    "from gym.envs.registration import register, spec\n",
    "\n",
    "MY_ENV_NAME='FrozenLakeNonskid8x8-v2'\n",
    "register(\n",
    "        id=MY_ENV_NAME,\n",
    "        entry_point='myfrozen.frozen_lake:FrozenLakeEnv',\n",
    "        kwargs={'map_name': '8x8', 'is_slippery': False},\n",
    "        timestep_limit=100,\n",
    "        reward_threshold=0.78, # optimum = .8196\n",
    ")\n",
    "\n",
    "env = gym.make(MY_ENV_NAME)"
   ]
  },
  {
   "cell_type": "code",
   "execution_count": 5,
   "metadata": {},
   "outputs": [],
   "source": [
    "def to_onehot(size,value):\n",
    "  my_onehot = np.zeros((size))\n",
    "  my_onehot[value] = 1.0\n",
    "  return my_onehot\n",
    "\n",
    "OBSERVATION_SPACE = env.observation_space.n\n",
    "ACTION_SPACE = env.action_space.n\n",
    "\n",
    "# Assume gridworld is always square\n",
    "OBS_SQR = int(math.sqrt(OBSERVATION_SPACE))\n",
    "STATEGRID = np.zeros((OBS_SQR,OBS_SQR))"
   ]
  },
  {
   "cell_type": "markdown",
   "metadata": {},
   "source": [
    "## Plotting "
   ]
  },
  {
   "cell_type": "code",
   "execution_count": 8,
   "metadata": {},
   "outputs": [],
   "source": [
    "#collect = []\n",
    "def run_episode(env,Q,learning_rate,gamma,episode,zerostates):\n",
    "    observation = env.reset()\n",
    "    done = False\n",
    "    t_reward = 0\n",
    "    max_steps = 100\n",
    "    #max_steps = env.spec.tags.get('wrapper_config.TimeLimit.max_episode_steps')\n",
    "    move_counter = 0\n",
    "    for j in range(max_steps):\n",
    "        if done:\n",
    "            if j < max_steps:\n",
    "                zerostates.add(observation)\n",
    "            break\n",
    "\n",
    "        curr_state = observation\n",
    "\n",
    "        #action = np.argmax(Q[curr_state,:]  + np.random.randn(1, env.action_space.n)*(1./(episode+1)))\n",
    "        action = np.argmax(Q[curr_state,:]  + np.random.randn(1, env.action_space.n))\n",
    "        \n",
    "        move_counter+=1\n",
    "        \n",
    "        observation, reward, done, info = env.step(action)\n",
    "        \n",
    "        collect.append((curr_state,action,observation,reward))\n",
    "\n",
    "        t_reward += reward\n",
    "\n",
    "        #Q(state, action) = R(state, action) + Gamma * Max[Q(next state, all actions)]\n",
    "        Q[curr_state,action] += learning_rate * (reward+ gamma*np.max(Q[observation,:])-Q[curr_state,action])\n",
    "\n",
    "    return Q, t_reward, done, move_counter"
   ]
  },
  {
   "cell_type": "code",
   "execution_count": 9,
   "metadata": {},
   "outputs": [],
   "source": [
    "collect = []\n",
    "zerostates = set()\n",
    "def trainer(epochs=1000,learning_rate = 0.81,discount = 0.96):\n",
    "\n",
    "    reward_per_ep = list()\n",
    "    wins = 0\n",
    "    losses = 0\n",
    "    \n",
    "    Q = np.zeros((env.observation_space.n, env.action_space.n))\n",
    "    \n",
    "    for i in range(epochs):\n",
    "        #print i\n",
    "        Q, t_reward, done, move_counter = run_episode(env,Q,learning_rate,discount,i,zerostates)\n",
    "        #print done\n",
    "        reward_per_ep.append(t_reward)\n",
    "\n",
    "        if done:\n",
    "            if t_reward > 0 : # Win\n",
    "                wins += 1\n",
    "            else: # Loss\n",
    "                losses += 1\n",
    "        time.sleep(.1)        \n",
    "        clear_output(wait=True)\n",
    "        print(\"Game #: %s\" % (i+1,))\n",
    "        print(\"Moves this round %s\" % move_counter)\n",
    "        print(\"Final Position:\")\n",
    "        env.render()\n",
    "        print(\"Wins/Losses %s/%s\" % (wins, losses))\n",
    "    return Q, reward_per_ep, collect, zerostates"
   ]
  },
  {
   "cell_type": "code",
   "execution_count": 21,
   "metadata": {},
   "outputs": [
    {
     "name": "stdout",
     "output_type": "stream",
     "text": [
      "Game #: 2000\n",
      "Moves this round 1\n",
      "Final Position:\n",
      "  (Down)\n",
      "FFFFFFSF\n",
      "FFFFFF\u001b[41mH\u001b[0mF\n",
      "FHFFFFFF\n",
      "FFFFFHFF\n",
      "FFHFFFFF\n",
      "FHFFFFFF\n",
      "FFFHFFFF\n",
      "FFFFFGFF\n",
      "Wins/Losses 182/1818\n",
      "CPU times: user 13.9 s, sys: 2.98 s, total: 16.9 s\n",
      "Wall time: 3min 39s\n"
     ]
    }
   ],
   "source": [
    "%%time\n",
    "q, rpe, collect, zerostates = trainer(epochs=2000)"
   ]
  },
  {
   "cell_type": "code",
   "execution_count": 23,
   "metadata": {},
   "outputs": [],
   "source": [
    "collect = np.array(collect)\n",
    "import pandas as pd\n",
    "df = pd.DataFrame(data=collect, columns=['state','action','state_new','reward'])"
   ]
  },
  {
   "cell_type": "code",
   "execution_count": 24,
   "metadata": {},
   "outputs": [],
   "source": [
    "one_hot = pd.get_dummies(df['state'],prefix='state')\n",
    "df = df.drop('state',axis=1)\n",
    "df = df.join(one_hot)\n",
    "one_hot = pd.get_dummies(df['state_new'],prefix='new_state')\n",
    "df = df.drop('state_new',axis=1)\n",
    "df = df.join(one_hot)\n",
    "one_hot = pd.get_dummies(df['action'],prefix='action')\n",
    "df = df.drop('action',axis=1)\n",
    "df = df.join(one_hot)"
   ]
  },
  {
   "cell_type": "code",
   "execution_count": 46,
   "metadata": {},
   "outputs": [
    {
     "data": {
      "text/plain": [
       "{13, 20, 27, 36, 45, 49, 58}"
      ]
     },
     "execution_count": 46,
     "metadata": {},
     "output_type": "execute_result"
    }
   ],
   "source": [
    "zerostates"
   ]
  },
  {
   "cell_type": "code",
   "execution_count": 53,
   "metadata": {},
   "outputs": [
    {
     "data": {
      "text/plain": [
       "['state_0.0',\n",
       " 'state_1.0',\n",
       " 'state_2.0',\n",
       " 'state_3.0',\n",
       " 'state_4.0',\n",
       " 'state_5.0',\n",
       " 'state_6.0',\n",
       " 'state_7.0',\n",
       " 'state_8.0',\n",
       " 'state_9.0',\n",
       " 'state_10.0',\n",
       " 'state_11.0',\n",
       " 'state_12.0',\n",
       " 'state_14.0',\n",
       " 'state_15.0',\n",
       " 'state_16.0',\n",
       " 'state_17.0',\n",
       " 'state_18.0',\n",
       " 'state_19.0',\n",
       " 'state_21.0',\n",
       " 'state_22.0',\n",
       " 'state_23.0',\n",
       " 'state_24.0',\n",
       " 'state_25.0',\n",
       " 'state_26.0',\n",
       " 'state_28.0',\n",
       " 'state_29.0',\n",
       " 'state_30.0',\n",
       " 'state_31.0',\n",
       " 'state_32.0',\n",
       " 'state_33.0',\n",
       " 'state_34.0',\n",
       " 'state_35.0',\n",
       " 'state_37.0',\n",
       " 'state_38.0',\n",
       " 'state_39.0',\n",
       " 'state_40.0',\n",
       " 'state_41.0',\n",
       " 'state_42.0',\n",
       " 'state_43.0',\n",
       " 'state_44.0',\n",
       " 'state_46.0',\n",
       " 'state_47.0',\n",
       " 'state_48.0',\n",
       " 'state_50.0',\n",
       " 'state_51.0',\n",
       " 'state_52.0',\n",
       " 'state_53.0',\n",
       " 'state_54.0',\n",
       " 'state_55.0',\n",
       " 'state_56.0',\n",
       " 'state_57.0',\n",
       " 'state_59.0',\n",
       " 'state_60.0',\n",
       " 'state_61.0',\n",
       " 'state_62.0',\n",
       " 'state_63.0',\n",
       " 'new_state_0.0',\n",
       " 'new_state_1.0',\n",
       " 'new_state_2.0',\n",
       " 'new_state_3.0',\n",
       " 'new_state_4.0',\n",
       " 'new_state_5.0',\n",
       " 'new_state_6.0',\n",
       " 'new_state_7.0',\n",
       " 'new_state_8.0',\n",
       " 'new_state_9.0',\n",
       " 'new_state_10.0',\n",
       " 'new_state_11.0',\n",
       " 'new_state_12.0',\n",
       " 'new_state_13.0',\n",
       " 'new_state_14.0',\n",
       " 'new_state_15.0',\n",
       " 'new_state_16.0',\n",
       " 'new_state_17.0',\n",
       " 'new_state_18.0',\n",
       " 'new_state_19.0',\n",
       " 'new_state_20.0',\n",
       " 'new_state_21.0',\n",
       " 'new_state_22.0',\n",
       " 'new_state_23.0',\n",
       " 'new_state_24.0',\n",
       " 'new_state_25.0',\n",
       " 'new_state_26.0',\n",
       " 'new_state_27.0',\n",
       " 'new_state_28.0',\n",
       " 'new_state_29.0',\n",
       " 'new_state_30.0',\n",
       " 'new_state_31.0',\n",
       " 'new_state_32.0',\n",
       " 'new_state_33.0',\n",
       " 'new_state_34.0',\n",
       " 'new_state_35.0',\n",
       " 'new_state_36.0',\n",
       " 'new_state_37.0',\n",
       " 'new_state_38.0',\n",
       " 'new_state_39.0',\n",
       " 'new_state_40.0',\n",
       " 'new_state_41.0',\n",
       " 'new_state_42.0',\n",
       " 'new_state_43.0',\n",
       " 'new_state_44.0',\n",
       " 'new_state_45.0',\n",
       " 'new_state_46.0',\n",
       " 'new_state_47.0',\n",
       " 'new_state_48.0',\n",
       " 'new_state_49.0',\n",
       " 'new_state_50.0',\n",
       " 'new_state_51.0',\n",
       " 'new_state_52.0',\n",
       " 'new_state_53.0',\n",
       " 'new_state_54.0',\n",
       " 'new_state_55.0',\n",
       " 'new_state_56.0',\n",
       " 'new_state_57.0',\n",
       " 'new_state_58.0',\n",
       " 'new_state_59.0',\n",
       " 'new_state_60.0',\n",
       " 'new_state_61.0',\n",
       " 'new_state_62.0',\n",
       " 'new_state_63.0',\n",
       " 'action_0.0',\n",
       " 'action_1.0',\n",
       " 'action_2.0',\n",
       " 'action_3.0']"
      ]
     },
     "execution_count": 53,
     "metadata": {},
     "output_type": "execute_result"
    }
   ],
   "source": [
    "list(df.columns.values)"
   ]
  },
  {
   "cell_type": "code",
   "execution_count": 25,
   "metadata": {},
   "outputs": [],
   "source": [
    "from sklearn import linear_model\n",
    "target = pd.DataFrame(df.reward, columns=[\"reward\"])\n",
    "df = df.drop('reward',axis=1)"
   ]
  },
  {
   "cell_type": "code",
   "execution_count": 26,
   "metadata": {},
   "outputs": [],
   "source": [
    "lm = linear_model.LinearRegression()\n",
    "model = lm.fit(df,target['reward'])"
   ]
  },
  {
   "cell_type": "markdown",
   "metadata": {},
   "source": [
    "### What the Value network has learned"
   ]
  },
  {
   "cell_type": "code",
   "execution_count": 22,
   "metadata": {},
   "outputs": [
    {
     "name": "stdout",
     "output_type": "stream",
     "text": [
      "\n",
      "FFFFFF\u001b[41mS\u001b[0mF\n",
      "FFFFFFHF\n",
      "FHFFFFFF\n",
      "FFFFFHFF\n",
      "FFHFFFFF\n",
      "FHFFFFFF\n",
      "FFFHFFFF\n",
      "FFFFFGFF\n"
     ]
    },
    {
     "data": {
      "image/png": "[encoded data removed]",
      "text/plain": [
       "<Figure size 432x288 with 2 Axes>"
      ]
     },
     "metadata": {},
     "output_type": "display_data"
    }
   ],
   "source": [
    "# Plot out the values the critic gives for the agent being in\n",
    "# a specific state, i.e. in a specific location in the env.\n",
    "def plot_value(initial_state):\n",
    "    # Assume gridworld is always a square\n",
    "    obs_sqr = math.sqrt(OBSERVATION_SPACE)\n",
    "    np_w_cri_r = np.zeros((OBS_SQR,OBS_SQR))\n",
    "    # make a working copy.\n",
    "    working_state = initial_state.copy()\n",
    "    for x in range(0,OBS_SQR):\n",
    "        for y in range(0,OBS_SQR):\n",
    "            my_state = working_state.copy()\n",
    "            # Place the player at a given X/Y location.\n",
    "            my_state[x,y] = 1\n",
    "            obs_predict = my_state.reshape(1,OBSERVATION_SPACE,)\n",
    "            obs_predict = np.squeeze(obs_predict)\n",
    "            index, = np.where(obs_predict == 1.)\n",
    "            value = np.max(q[index,:])\n",
    "            #value = 0\n",
    "            np_w_cri_r[x,y] = value\n",
    "    np_w_cri_r.shape\n",
    "    pylab.pcolor(np_w_cri_r)\n",
    "    pylab.title(\"Value Network\")\n",
    "    pylab.colorbar()\n",
    "    pylab.xlabel(\"X\")\n",
    "    pylab.ylabel(\"Y\")\n",
    "    pylab.gca().invert_yaxis()\n",
    "    pylab.draw()\n",
    "\n",
    "env.reset()\n",
    "env.render()\n",
    "plot_value(STATEGRID)"
   ]
  },
  {
   "cell_type": "code",
   "execution_count": 12,
   "metadata": {},
   "outputs": [
    {
     "data": {
      "text/plain": [
       "array([2, 1, 0, 0, 1, 0, 0, 0, 0, 1, 1, 0, 1, 0, 0, 0, 1, 0, 0, 0, 1, 0,\n",
       "       3, 3, 1, 0, 2, 1, 0, 0, 0, 1, 1, 1, 0, 1, 0, 0, 0, 0, 1, 1, 0, 0,\n",
       "       0, 0, 2, 3, 2, 1, 0, 0, 3, 0, 3, 3, 3, 0, 3, 0, 0, 2, 2, 3])"
      ]
     },
     "execution_count": 12,
     "metadata": {},
     "output_type": "execute_result"
    }
   ],
   "source": [
    "np.argmax(q,axis=1)"
   ]
  },
  {
   "cell_type": "code",
   "execution_count": 23,
   "metadata": {},
   "outputs": [
    {
     "name": "stdout",
     "output_type": "stream",
     "text": [
      "map shape: (8, 8), data type: float64\n"
     ]
    },
    {
     "data": {
      "image/png": "[encoded data removed]",
      "text/plain": [
       "<Figure size 432x288 with 2 Axes>"
      ]
     },
     "metadata": {},
     "output_type": "display_data"
    }
   ],
   "source": [
    "import img_utils\n",
    "#reload(img_utils)\n",
    "figure = img_utils.heatmap2d(np.reshape(np.max(q,axis=1), (8, 8), order='C'), 'Value function')"
   ]
  },
  {
   "cell_type": "code",
   "execution_count": 34,
   "metadata": {},
   "outputs": [
    {
     "data": {
      "text/plain": [
       "NoneType"
      ]
     },
     "execution_count": 34,
     "metadata": {},
     "output_type": "execute_result"
    }
   ],
   "source": [
    "type(figure)\n",
    "#fig.savefig(\"images/%d.png\" % epoch)"
   ]
  },
  {
   "cell_type": "code",
   "execution_count": 32,
   "metadata": {},
   "outputs": [],
   "source": [
    "def compute_reward(s,new_s,a):\n",
    "    s = to_onehot(OBSERVATION_SPACE,s)\n",
    "    new_s = to_onehot(OBSERVATION_SPACE,new_s)\n",
    "    a = to_onehot(ACTION_SPACE,a)\n",
    "    vectorized = np.hstack((s,new_s,a))\n",
    "    index = list(zerostates)\n",
    "    vectorized = np.delete(vectorized, index)\n",
    "    return np.dot(model.coef_,vectorized)"
   ]
  },
  {
   "cell_type": "code",
   "execution_count": 33,
   "metadata": {},
   "outputs": [],
   "source": [
    "tofill = np.zeros((OBSERVATION_SPACE,OBSERVATION_SPACE,ACTION_SPACE))\n",
    "env.reset()\n",
    "for s in xrange(0,OBSERVATION_SPACE):\n",
    "    for new_s in xrange(0,OBSERVATION_SPACE):\n",
    "        for a in xrange(0,ACTION_SPACE):\n",
    "            tofill[(s,new_s,a)] = compute_reward(s,new_s,a)\n",
    "            \n",
    "sub = tofill[0, :, :]\n",
    "sub = np.max(sub,axis=1)\n",
    "#np.argmax(np.max(sub,axis=1))"
   ]
  },
  {
   "cell_type": "code",
   "execution_count": 35,
   "metadata": {},
   "outputs": [],
   "source": [
    "sub = tofill[0, :, :]\n",
    "sub = np.min(sub,axis=1)"
   ]
  },
  {
   "cell_type": "code",
   "execution_count": 36,
   "metadata": {},
   "outputs": [
    {
     "name": "stdout",
     "output_type": "stream",
     "text": [
      "map shape: (8, 8), data type: float64\n"
     ]
    },
    {
     "data": {
      "image/png": "[encoded data removed]",
      "text/plain": [
       "<Figure size 432x288 with 2 Axes>"
      ]
     },
     "metadata": {},
     "output_type": "display_data"
    }
   ],
   "source": [
    "import img_utils\n",
    "img_utils.heatmap2d(np.reshape(sub, (8, 8), order='C'), 'Reward Map - Recovered')"
   ]
  },
  {
   "cell_type": "code",
   "execution_count": 45,
   "metadata": {},
   "outputs": [
    {
     "data": {
      "text/plain": [
       "array([0.00526674, 0.00526674, 0.00526674, 0.00526674, 0.00526674,\n",
       "       0.00526674, 0.00526674, 0.00526674, 0.00526674, 0.00526674,\n",
       "       0.00526674, 0.00526674, 0.00526674, 0.00526674, 0.00526674,\n",
       "       0.00526674, 0.00526674, 0.00526674, 0.00526674, 0.00526674,\n",
       "       0.00526674, 0.00526674, 0.00526674, 0.00526674, 0.00526674,\n",
       "       0.00526674, 0.00526674, 0.00526674, 0.00526674, 0.00526674,\n",
       "       0.00526674, 0.00526674, 0.00526674, 0.00526674, 0.00526674,\n",
       "       0.00526674, 0.00526674, 0.00526674, 0.00526674, 0.00526674,\n",
       "       0.00526674, 0.00526674, 0.00526674, 0.00526674, 0.00526674,\n",
       "       0.00526674, 0.00526674, 0.00526674, 0.00526674, 0.00526674,\n",
       "       0.00526674, 0.00526674, 0.00526674, 0.00526674, 0.00526674,\n",
       "       0.00526674, 0.00526674, 0.00221781, 0.00221781, 0.00221781,\n",
       "       0.00221781, 0.00221781, 0.00221781, 0.00221781, 0.00221781,\n",
       "       0.00221781, 0.00221781, 0.00221781, 0.00221781, 0.00221781,\n",
       "       0.00221781, 0.00221781, 0.00221781, 0.00221781, 0.00221781,\n",
       "       0.00221781, 0.00221781, 0.00221781, 0.00221781, 0.00221781,\n",
       "       0.00221781, 0.00221781, 0.00221781, 0.00221781, 0.00221781,\n",
       "       0.00221781, 0.00221781, 0.00221781, 0.00221781, 0.00221781,\n",
       "       0.00221781, 0.00221781, 0.00221781, 0.00221781, 0.00221781,\n",
       "       0.00221781, 0.00221781, 0.00221781, 0.00221781, 0.00221781,\n",
       "       0.00221781, 0.00221781, 0.00221781, 0.00221781, 0.00221781,\n",
       "       0.00221781, 0.00221781, 0.00221781, 0.00221781, 0.00221781,\n",
       "       0.00221781, 0.00221781, 0.00221781, 0.00221781, 0.00221781,\n",
       "       1.00221781, 0.00221781, 0.00221781, 0.00221781, 0.00221781,\n",
       "       0.00221781, 0.00464093, 0.00464093, 0.00464093, 0.00464093])"
      ]
     },
     "execution_count": 45,
     "metadata": {},
     "output_type": "execute_result"
    }
   ],
   "source": [
    "model.coef_"
   ]
  },
  {
   "cell_type": "markdown",
   "metadata": {},
   "source": [
    "# RECOVER REWARD BY LINEAR REGRESSION"
   ]
  },
  {
   "cell_type": "code",
   "execution_count": 13,
   "metadata": {},
   "outputs": [],
   "source": [
    "def compute_reward(s,new_s,a):\n",
    "    s = to_onehot(OBSERVATION_SPACE,s)\n",
    "    new_s = to_onehot(OBSERVATION_SPACE,new_s)\n",
    "    a = to_onehot(ACTION_SPACE,a)\n",
    "    vectorized = np.hstack((s,new_s,a))\n",
    "    index = list(zerostates)\n",
    "    vectorized = np.delete(vectorized, index)\n",
    "    return np.dot(model.coef_,vectorized)\n",
    "    \n",
    "def run_episode(env,Q,learning_rate,gamma,episode):\n",
    "    observation = env.reset()\n",
    "    done = False\n",
    "    t_reward = 0\n",
    "    max_steps = 100\n",
    "    #max_steps = env.spec.tags.get('wrapper_config.TimeLimit.max_episode_steps')\n",
    "    move_counter = 0\n",
    "    for j in range(max_steps):\n",
    "        if done:\n",
    "            break\n",
    "\n",
    "        curr_state = observation\n",
    "\n",
    "        #action = np.argmax(Q[curr_state,:]  + np.random.randn(1, env.action_space.n)*(1./(episode+1)))\n",
    "        action = np.argmax(Q[curr_state,:]  + np.random.randn(1, env.action_space.n))\n",
    "        \n",
    "        move_counter+=1\n",
    "        \n",
    "        observation, true_reward, done, info = env.step(action)\n",
    "        \n",
    "        reward = compute_reward(curr_state,observation,action)\n",
    "        \n",
    "        #collect.append((curr_state,action,observation,reward))\n",
    "\n",
    "        t_reward += reward\n",
    "\n",
    "        #Q(state, action) = R(state, action) + Gamma * Max[Q(next state, all actions)]\n",
    "        Q[curr_state,action] += learning_rate * (reward+ gamma*np.max(Q[observation,:])-Q[curr_state,action])\n",
    "\n",
    "    return Q, t_reward, done, move_counter, true_reward"
   ]
  },
  {
   "cell_type": "code",
   "execution_count": 14,
   "metadata": {},
   "outputs": [],
   "source": [
    "def trainer(epochs=1000,learning_rate = 0.81,discount = 0.96):\n",
    "    #env = gym.make('FrozenLake-v0')\n",
    "    #env = wrappers.Monitor(env, '/tmp/FrozenLake-experiment-6',force=True)\n",
    "\n",
    "    reward_per_ep = list()\n",
    "    wins = 0\n",
    "    losses = 0\n",
    "    \n",
    "    Q = np.zeros((env.observation_space.n, env.action_space.n))\n",
    "    \n",
    "    for i in range(epochs):\n",
    "        #print i\n",
    "        Q, t_reward, done, move_counter, true_reward = run_episode(env,Q,learning_rate,discount,i)\n",
    "        #print done\n",
    "        reward_per_ep.append(t_reward)\n",
    "\n",
    "        if done:\n",
    "            if true_reward > 0 : # Win\n",
    "                wins += 1\n",
    "            else: # Loss\n",
    "                losses += 1\n",
    "        time.sleep(.1)        \n",
    "        clear_output(wait=True)\n",
    "        print(\"Game #: %s\" % (i+1,))\n",
    "        print(\"Moves this round %s\" % move_counter)\n",
    "        print(\"Final Position:\")\n",
    "        env.render()\n",
    "        print(\"Wins/Losses %s/%s\" % (wins, losses))\n",
    "    return Q, reward_per_ep"
   ]
  },
  {
   "cell_type": "code",
   "execution_count": 15,
   "metadata": {},
   "outputs": [
    {
     "name": "stdout",
     "output_type": "stream",
     "text": [
      "Game #: 2000\n",
      "Moves this round 7\n",
      "Final Position:\n",
      "  (Right)\n",
      "FFFFFSFF\n",
      "FFFF\u001b[41mH\u001b[0mFFF\n",
      "FFFFFFFH\n",
      "FFFFFFHF\n",
      "FFFFFHFF\n",
      "FFHFFFFF\n",
      "FFFFFFHF\n",
      "FFFFGFFF\n",
      "Wins/Losses 72/1928\n",
      "CPU times: user 17.2 s, sys: 10.9 s, total: 28.1 s\n",
      "Wall time: 3min 44s\n"
     ]
    }
   ],
   "source": [
    "%%time\n",
    "q, rpe = trainer(epochs=2000)"
   ]
  },
  {
   "cell_type": "markdown",
   "metadata": {},
   "source": [
    "### What the Value network has learned"
   ]
  },
  {
   "cell_type": "code",
   "execution_count": 54,
   "metadata": {},
   "outputs": [
    {
     "name": "stdout",
     "output_type": "stream",
     "text": [
      "\n",
      "FFFF\u001b[41mS\u001b[0mFFF\n",
      "FFFFFHFF\n",
      "FFFFHFFF\n",
      "FFFHFFFF\n",
      "FFFFHFFF\n",
      "FFFFFHFF\n",
      "FHFFFFFF\n",
      "FFGFFFFF\n"
     ]
    },
    {
     "data": {
      "image/png": "[encoded data removed]",
      "text/plain": [
       "<Figure size 432x288 with 2 Axes>"
      ]
     },
     "metadata": {},
     "output_type": "display_data"
    }
   ],
   "source": [
    "# Plot out the values the critic gives for the agent being in\n",
    "# a specific state, i.e. in a specific location in the env.\n",
    "def plot_value(initial_state):\n",
    "    # Assume gridworld is always a square\n",
    "    obs_sqr = math.sqrt(OBSERVATION_SPACE)\n",
    "    np_w_cri_r = np.zeros((OBS_SQR,OBS_SQR))\n",
    "    # make a working copy.\n",
    "    working_state = initial_state.copy()\n",
    "    for x in range(0,OBS_SQR):\n",
    "        for y in range(0,OBS_SQR):\n",
    "            my_state = working_state.copy()\n",
    "            # Place the player at a given X/Y location.\n",
    "            my_state[x,y] = 1\n",
    "            obs_predict = my_state.reshape(1,OBSERVATION_SPACE,)\n",
    "            obs_predict = np.squeeze(obs_predict)\n",
    "            index, = np.where(obs_predict == 1.)\n",
    "            value = np.max(q[index,:])\n",
    "            #value = 0\n",
    "            np_w_cri_r[x,y] = value\n",
    "    np_w_cri_r.shape\n",
    "    pylab.pcolor(np_w_cri_r)\n",
    "    pylab.title(\"Value Network\")\n",
    "    pylab.colorbar()\n",
    "    pylab.xlabel(\"X\")\n",
    "    pylab.ylabel(\"Y\")\n",
    "    pylab.gca().invert_yaxis()\n",
    "    pylab.draw()\n",
    "\n",
    "env.reset()\n",
    "env.render()\n",
    "plot_value(STATEGRID)"
   ]
  },
  {
   "cell_type": "markdown",
   "metadata": {},
   "source": [
    "### Showing Policy"
   ]
  },
  {
   "cell_type": "code",
   "execution_count": 36,
   "metadata": {},
   "outputs": [
    {
     "name": "stdout",
     "output_type": "stream",
     "text": [
      "\n",
      "FFFFFF\u001b[41mS\u001b[0mF\n",
      "FFFFFFHF\n",
      "FHFFFFFF\n",
      "FFFFFHFF\n",
      "FFHFFFFF\n",
      "FHFFFFFF\n",
      "FFFHFFFF\n",
      "FFFFFGFF\n",
      "[[u'v' u'v' u'v' u'v' u'v' u'<' u'<' u'v']\n",
      " [u'v' u'>' u'v' u'v' u'v' u'<' u'<' u'v']\n",
      " [u'v' u'<' u'v' u'v' u'v' u'<' u'v' u'<']\n",
      " [u'>' u'>' u'>' u'v' u'v' u'<' u'v' u'<']\n",
      " [u'^' u'^' u'<' u'v' u'v' u'v' u'<' u'<']\n",
      " [u'v' u'<' u'>' u'>' u'v' u'v' u'<' u'<']\n",
      " [u'>' u'>' u'v' u'<' u'>' u'v' u'<' u'<']\n",
      " [u'^' u'<' u'>' u'>' u'>' u'<' u'<' u'<']]\n"
     ]
    }
   ],
   "source": [
    "A2A=['<','v','>','^']\n",
    "def show_policy(initial_state):\n",
    "    grid = np.zeros((OBS_SQR,OBS_SQR), dtype='<U2')\n",
    "    for x in range(0,OBS_SQR):\n",
    "        for y in range(0,OBS_SQR):\n",
    "            my_state = initial_state.copy()\n",
    "            my_state[x,y] = 1\n",
    "\n",
    "            obs_predict = my_state.reshape(1,OBSERVATION_SPACE,)\n",
    "            obs_predict = np.squeeze(obs_predict)\n",
    "            index, = np.where(obs_predict == 1.)\n",
    "            action = np.argmax(q[index,:])\n",
    "            grid[x,y] = A2A[action]\n",
    "    grid\n",
    "    return grid\n",
    "\n",
    "env.reset()\n",
    "env.render()\n",
    "\n",
    "grid = show_policy(STATEGRID)\n",
    "print(grid)"
   ]
  },
  {
   "cell_type": "code",
   "execution_count": 44,
   "metadata": {},
   "outputs": [
    {
     "name": "stdout",
     "output_type": "stream",
     "text": [
      "\n",
      "FFFFFF\u001b[41mS\u001b[0mF\n",
      "FFFFFFHF\n",
      "FHFFFFFF\n",
      "FFFFFHFF\n",
      "FFHFFFFF\n",
      "FHFFFFFF\n",
      "FFFHFFFF\n",
      "FFFFFGFF\n",
      "[[u'v' u'v' u'v' u'v' u'v' u'<' u'<' u'v']\n",
      " [u'v' u'>' u'v' u'v' u'v' u'<' u'<' u'v']\n",
      " [u'v' u'<' u'v' u'v' u'v' u'<' u'v' u'<']\n",
      " [u'>' u'>' u'>' u'v' u'v' u'<' u'v' u'<']\n",
      " [u'^' u'^' u'<' u'v' u'v' u'v' u'<' u'<']\n",
      " [u'v' u'<' u'>' u'>' u'v' u'v' u'<' u'<']\n",
      " [u'>' u'>' u'v' u'<' u'>' u'v' u'<' u'<']\n",
      " [u'^' u'<' u'>' u'>' u'>' u'<' u'<' u'<']]\n"
     ]
    }
   ],
   "source": [
    "A2A=['<','v','>','^']\n",
    "def show_policy(initial_state):\n",
    "    grid = np.zeros((OBS_SQR,OBS_SQR), dtype='<U2')\n",
    "    for x in range(0,OBS_SQR):\n",
    "        for y in range(0,OBS_SQR):\n",
    "            my_state = initial_state.copy()\n",
    "            my_state[x,y] = 1\n",
    "\n",
    "            obs_predict = my_state.reshape(1,OBSERVATION_SPACE,)\n",
    "            obs_predict = np.squeeze(obs_predict)\n",
    "            index, = np.where(obs_predict == 1.)\n",
    "            action = np.argmax(q[index,:])\n",
    "            grid[x,y] = A2A[action]\n",
    "    grid\n",
    "    return grid\n",
    "\n",
    "env.reset()\n",
    "env.render()\n",
    "\n",
    "grid = show_policy(STATEGRID)\n",
    "print(grid)"
   ]
  },
  {
   "cell_type": "markdown",
   "metadata": {},
   "source": [
    "# SAVING"
   ]
  },
  {
   "cell_type": "code",
   "execution_count": 31,
   "metadata": {},
   "outputs": [],
   "source": [
    "policy = np.zeros(OBSERVATION_SPACE)\n",
    "for i in range(OBSERVATION_SPACE):\n",
    "     policy[i] = np.argmax(q[i,:])"
   ]
  },
  {
   "cell_type": "code",
   "execution_count": 33,
   "metadata": {},
   "outputs": [],
   "source": [
    "D = {}\n",
    "D[\"env\"] = env\n",
    "D[\"q\"] = q\n",
    "D[\"zerostates\"] = zerostates\n",
    "D[\"policy\"] = policy\n",
    "D[\"model\"] = model"
   ]
  },
  {
   "cell_type": "code",
   "execution_count": 39,
   "metadata": {},
   "outputs": [],
   "source": [
    "import pickle \n",
    "output = open('saved/test.pkl', 'wb')\n",
    "pickle.dump(D, output)\n",
    "output.close()"
   ]
  },
  {
   "cell_type": "code",
   "execution_count": null,
   "metadata": {},
   "outputs": [],
   "source": []
  }
 ],
 "metadata": {
  "kernelspec": {
   "display_name": "Python [default]",
   "language": "python",
   "name": "python2"
  },
  "language_info": {
   "codemirror_mode": {
    "name": "ipython",
    "version": 2
   },
   "file_extension": ".py",
   "mimetype": "text/x-python",
   "name": "python",
   "nbconvert_exporter": "python",
   "pygments_lexer": "ipython2",
   "version": "2.7.15"
  }
 },
 "nbformat": 4,
 "nbformat_minor": 2
}
