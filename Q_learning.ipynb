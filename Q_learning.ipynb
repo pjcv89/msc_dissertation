{
 "cells": [
  {
   "cell_type": "code",
   "execution_count": 1,
   "metadata": {},
   "outputs": [
    {
     "name": "stdout",
     "output_type": "stream",
     "text": [
      "Populating the interactive namespace from numpy and matplotlib\n"
     ]
    }
   ],
   "source": [
    "%pylab inline\n",
    "import logging\n",
    "logger = logging.getLogger()\n",
    "logger.setLevel(logging.ERROR)\n",
    "from IPython.display import clear_output\n",
    "import time\n",
    "#from time import sleep\n",
    "import numpy as np\n",
    "import math\n",
    "import gym"
   ]
  },
  {
   "cell_type": "code",
   "execution_count": 4,
   "metadata": {},
   "outputs": [],
   "source": [
    "#from myfrozen import frozen_lake\n",
    "import myfrozen"
   ]
  },
  {
   "cell_type": "code",
   "execution_count": 30,
   "metadata": {},
   "outputs": [],
   "source": [
    "from gym.envs.registration import register, spec\n",
    "\n",
    "MY_ENV_NAME='FrozenLakeNonskid8x8-v2'\n",
    "register(\n",
    "        id=MY_ENV_NAME,\n",
    "        entry_point='myfrozen.frozen_lake:FrozenLakeEnv',\n",
    "        kwargs={'map_name': '8x8', 'is_slippery': False},\n",
    "        timestep_limit=100,\n",
    "        reward_threshold=0.78, # optimum = .8196\n",
    ")\n",
    "\n",
    "env = gym.make(MY_ENV_NAME)"
   ]
  },
  {
   "cell_type": "code",
   "execution_count": 6,
   "metadata": {},
   "outputs": [],
   "source": [
    "def to_onehot(size,value):\n",
    "  my_onehot = np.zeros((size))\n",
    "  my_onehot[value] = 1.0\n",
    "  return my_onehot\n",
    "\n",
    "OBSERVATION_SPACE = env.observation_space.n\n",
    "ACTION_SPACE = env.action_space.n\n",
    "\n",
    "# Assume gridworld is always square\n",
    "OBS_SQR = int(math.sqrt(OBSERVATION_SPACE))\n",
    "STATEGRID = np.zeros((OBS_SQR,OBS_SQR))"
   ]
  },
  {
   "cell_type": "markdown",
   "metadata": {},
   "source": [
    "## Plotting "
   ]
  },
  {
   "cell_type": "code",
   "execution_count": 56,
   "metadata": {},
   "outputs": [],
   "source": [
    "def run_episode(env,Q,learning_rate,gamma,episode):\n",
    "    observation = env.reset()\n",
    "    done = False\n",
    "    t_reward = 0\n",
    "    max_steps = 100\n",
    "    #max_steps = env.spec.tags.get('wrapper_config.TimeLimit.max_episode_steps')\n",
    "    move_counter = 0\n",
    "    for j in range(max_steps):\n",
    "        if done:\n",
    "            break\n",
    "\n",
    "        curr_state = observation\n",
    "\n",
    "        #action = np.argmax(Q[curr_state,:]  + np.random.randn(1, env.action_space.n)*(1./(episode+1)))\n",
    "        action = np.argmax(Q[curr_state,:]  + np.random.randn(1, env.action_space.n))\n",
    "        \n",
    "        move_counter+=1\n",
    "        \n",
    "        observation, reward, done, info = env.step(action)\n",
    "\n",
    "        t_reward += reward\n",
    "\n",
    "        #Q(state, action) = R(state, action) + Gamma * Max[Q(next state, all actions)]\n",
    "        Q[curr_state,action] += learning_rate * (reward+ gamma*np.max(Q[observation,:])-Q[curr_state,action])\n",
    "\n",
    "    return Q, t_reward, done, move_counter"
   ]
  },
  {
   "cell_type": "code",
   "execution_count": 57,
   "metadata": {},
   "outputs": [],
   "source": [
    "def trainer(epochs=1000,learning_rate = 0.81,discount = 0.96):\n",
    "    #env = gym.make('FrozenLake-v0')\n",
    "    #env = wrappers.Monitor(env, '/tmp/FrozenLake-experiment-6',force=True)\n",
    "\n",
    "    reward_per_ep = list()\n",
    "    wins = 0\n",
    "    losses = 0\n",
    "    #move_counter = 0\n",
    "    #observation = env.reset()\n",
    "    \n",
    "    Q = np.zeros((env.observation_space.n, env.action_space.n))\n",
    "    for i in range(epochs):\n",
    "        #print i\n",
    "        Q, t_reward, done, move_counter = run_episode(env,Q,learning_rate,discount,i)\n",
    "        #print done\n",
    "        reward_per_ep.append(t_reward)\n",
    "\n",
    "        if done:\n",
    "            if t_reward > 0 : # Win\n",
    "                wins += 1\n",
    "            else: # Loss\n",
    "                losses += 1\n",
    "        time.sleep(.1)        \n",
    "        clear_output(wait=True)\n",
    "        print(\"Game #: %s\" % (i+1,))\n",
    "        print(\"Moves this round %s\" % move_counter)\n",
    "        print(\"Final Position:\")\n",
    "        env.render()\n",
    "        print(\"Wins/Losses %s/%s\" % (wins, losses))\n",
    "    return Q, reward_per_ep"
   ]
  },
  {
   "cell_type": "code",
   "execution_count": 61,
   "metadata": {},
   "outputs": [
    {
     "name": "stdout",
     "output_type": "stream",
     "text": [
      "Game #: 2000\n",
      "Moves this round 31\n",
      "Final Position:\n",
      "  (Right)\n",
      "FFSFFFFF\n",
      "FHFFFFFF\n",
      "FFF\u001b[41mH\u001b[0mFFFF\n",
      "FFFFFFFH\n",
      "FFFFFFHF\n",
      "FFFFHFFF\n",
      "FFFHFFFF\n",
      "GFFFFFFF\n",
      "Wins/Losses 164/1836\n",
      "CPU times: user 15 s, sys: 11.9 s, total: 26.9 s\n",
      "Wall time: 3min 39s\n"
     ]
    }
   ],
   "source": [
    "%%time\n",
    "q, rpe = trainer(epochs=2000)"
   ]
  },
  {
   "cell_type": "code",
   "execution_count": 62,
   "metadata": {},
   "outputs": [
    {
     "data": {
      "text/plain": [
       "array([[0.75144748, 0.78275779, 0.72138958, 0.75144748],\n",
       "       [0.75144748, 0.        , 0.692534  , 0.72138958],\n",
       "       [0.72138958, 0.72138958, 0.66483264, 0.692534  ],\n",
       "       [0.692534  , 0.692534  , 0.63823933, 0.66483264],\n",
       "       [0.66483264, 0.66483264, 0.61270976, 0.63823933],\n",
       "       [0.63823933, 0.63823933, 0.58820137, 0.61270976],\n",
       "       [0.61270976, 0.61270976, 0.56467331, 0.58820137],\n",
       "       [0.58820137, 0.58820137, 0.56467331, 0.56467331],\n",
       "       [0.78275779, 0.8153727 , 0.        , 0.75144748],\n",
       "       [0.        , 0.        , 0.        , 0.        ],\n",
       "       [0.        , 0.75144748, 0.692534  , 0.692534  ],\n",
       "       [0.72138958, 0.        , 0.66483264, 0.66483264],\n",
       "       [0.692534  , 0.692534  , 0.63823933, 0.63823933],\n",
       "       [0.66483264, 0.66483264, 0.61270976, 0.61270976],\n",
       "       [0.63823933, 0.63823933, 0.58820137, 0.58820137],\n",
       "       [0.61270976, 0.61270976, 0.58820137, 0.56467331],\n",
       "       [0.8153727 , 0.84934656, 0.78275779, 0.78275779],\n",
       "       [0.8153727 , 0.8153727 , 0.75144748, 0.        ],\n",
       "       [0.78275779, 0.78275779, 0.        , 0.72138958],\n",
       "       [0.        , 0.        , 0.        , 0.        ],\n",
       "       [0.        , 0.72138958, 0.66483264, 0.66483264],\n",
       "       [0.692534  , 0.692534  , 0.63823933, 0.63823933],\n",
       "       [0.66483264, 0.66483264, 0.61270976, 0.61270976],\n",
       "       [0.63823933, 0.        , 0.61270976, 0.58820137],\n",
       "       [0.84934656, 0.884736  , 0.8153727 , 0.8153727 ],\n",
       "       [0.84934656, 0.84934656, 0.78275779, 0.78275779],\n",
       "       [0.8153727 , 0.8153727 , 0.75144748, 0.75144748],\n",
       "       [0.78275779, 0.78275779, 0.72138958, 0.        ],\n",
       "       [0.75144748, 0.75144748, 0.692534  , 0.692534  ],\n",
       "       [0.72138958, 0.72138958, 0.66483264, 0.66483264],\n",
       "       [0.692534  , 0.        , 0.        , 0.63823933],\n",
       "       [0.        , 0.        , 0.        , 0.        ],\n",
       "       [0.884736  , 0.9216    , 0.84934656, 0.84934656],\n",
       "       [0.884736  , 0.884736  , 0.8153727 , 0.8153727 ],\n",
       "       [0.84934656, 0.84934656, 0.78275779, 0.78275779],\n",
       "       [0.8153727 , 0.8153727 , 0.75144748, 0.75144748],\n",
       "       [0.78275779, 0.        , 0.72138958, 0.72138958],\n",
       "       [0.75144748, 0.75144748, 0.        , 0.692534  ],\n",
       "       [0.        , 0.        , 0.        , 0.        ],\n",
       "       [0.        , 0.69245162, 0.66401162, 0.        ],\n",
       "       [0.9216    , 0.96      , 0.884736  , 0.884736  ],\n",
       "       [0.9216    , 0.9216    , 0.84934656, 0.84934656],\n",
       "       [0.884736  , 0.884736  , 0.8153727 , 0.8153727 ],\n",
       "       [0.84934656, 0.        , 0.        , 0.78275779],\n",
       "       [0.        , 0.        , 0.        , 0.        ],\n",
       "       [0.        , 0.78275779, 0.72138958, 0.72138958],\n",
       "       [0.75144748, 0.75142587, 0.69253392, 0.        ],\n",
       "       [0.7213895 , 0.72136155, 0.69253373, 0.66468879],\n",
       "       [0.96      , 1.        , 0.9216    , 0.9216    ],\n",
       "       [0.96      , 0.96      , 0.884736  , 0.884736  ],\n",
       "       [0.9216    , 0.9216    , 0.        , 0.84934656],\n",
       "       [0.        , 0.        , 0.        , 0.        ],\n",
       "       [0.        , 0.84934656, 0.78275779, 0.        ],\n",
       "       [0.8153727 , 0.8153727 , 0.75144736, 0.75144748],\n",
       "       [0.78275756, 0.78275768, 0.72136954, 0.72138919],\n",
       "       [0.75143996, 0.7514287 , 0.7213692 , 0.69253356],\n",
       "       [0.        , 0.        , 0.        , 0.        ],\n",
       "       [1.        , 0.96      , 0.9216    , 0.9216    ],\n",
       "       [0.96      , 0.9216    , 0.884736  , 0.884736  ],\n",
       "       [0.9216    , 0.884736  , 0.84934656, 0.        ],\n",
       "       [0.884736  , 0.84934656, 0.8153727 , 0.8153727 ],\n",
       "       [0.84934656, 0.8153727 , 0.78275779, 0.78275779],\n",
       "       [0.8153727 , 0.78275778, 0.75144744, 0.75144727],\n",
       "       [0.78275779, 0.72427942, 0.75138298, 0.72135404]])"
      ]
     },
     "execution_count": 62,
     "metadata": {},
     "output_type": "execute_result"
    }
   ],
   "source": [
    "q"
   ]
  },
  {
   "cell_type": "markdown",
   "metadata": {},
   "source": [
    "### What the Value network has learned"
   ]
  },
  {
   "cell_type": "code",
   "execution_count": 63,
   "metadata": {},
   "outputs": [
    {
     "name": "stdout",
     "output_type": "stream",
     "text": [
      "\n",
      "FF\u001b[41mS\u001b[0mFFFFF\n",
      "FHFFFFFF\n",
      "FFFHFFFF\n",
      "FFFFFFFH\n",
      "FFFFFFHF\n",
      "FFFFHFFF\n",
      "FFFHFFFF\n",
      "GFFFFFFF\n"
     ]
    },
    {
     "data": {
      "image/png": "[encoded data removed]",
      "text/plain": [
       "<matplotlib.figure.Figure at 0x1110680d0>"
      ]
     },
     "metadata": {},
     "output_type": "display_data"
    }
   ],
   "source": [
    "# Plot out the values the critic gives for the agent being in\n",
    "# a specific state, i.e. in a specific location in the env.\n",
    "def plot_value(initial_state):\n",
    "    # Assume gridworld is always a square\n",
    "    obs_sqr = math.sqrt(OBSERVATION_SPACE)\n",
    "    np_w_cri_r = np.zeros((OBS_SQR,OBS_SQR))\n",
    "    # make a working copy.\n",
    "    working_state = initial_state.copy()\n",
    "    for x in range(0,OBS_SQR):\n",
    "        for y in range(0,OBS_SQR):\n",
    "            my_state = working_state.copy()\n",
    "            # Place the player at a given X/Y location.\n",
    "            my_state[x,y] = 1\n",
    "            obs_predict = my_state.reshape(1,OBSERVATION_SPACE,)\n",
    "            obs_predict = np.squeeze(obs_predict)\n",
    "            index, = np.where(obs_predict == 1.)\n",
    "            value = np.max(q[index,:])\n",
    "            #value = 0\n",
    "            np_w_cri_r[x,y] = value\n",
    "    np_w_cri_r.shape\n",
    "    pylab.pcolor(np_w_cri_r)\n",
    "    pylab.title(\"Value Network\")\n",
    "    pylab.colorbar()\n",
    "    pylab.xlabel(\"X\")\n",
    "    pylab.ylabel(\"Y\")\n",
    "    pylab.gca().invert_yaxis()\n",
    "    pylab.draw()\n",
    "\n",
    "env.reset()\n",
    "env.render()\n",
    "plot_value(STATEGRID)"
   ]
  },
  {
   "cell_type": "markdown",
   "metadata": {},
   "source": [
    "### Showing Policy"
   ]
  },
  {
   "cell_type": "code",
   "execution_count": 64,
   "metadata": {},
   "outputs": [
    {
     "name": "stdout",
     "output_type": "stream",
     "text": [
      "\n",
      "FF\u001b[41mS\u001b[0mFFFFF\n",
      "FHFFFFFF\n",
      "FFFHFFFF\n",
      "FFFFFFFH\n",
      "FFFFFFHF\n",
      "FFFFHFFF\n",
      "FFFHFFFF\n",
      "GFFFFFFF\n",
      "[[u'v' u'<' u'<' u'<' u'<' u'<' u'<' u'<']\n",
      " [u'v' u'<' u'v' u'<' u'<' u'<' u'<' u'<']\n",
      " [u'v' u'<' u'<' u'<' u'v' u'<' u'<' u'<']\n",
      " [u'v' u'<' u'<' u'<' u'<' u'<' u'<' u'<']\n",
      " [u'v' u'<' u'<' u'<' u'<' u'<' u'<' u'v']\n",
      " [u'v' u'<' u'<' u'<' u'<' u'v' u'<' u'<']\n",
      " [u'v' u'<' u'<' u'<' u'v' u'v' u'v' u'<']\n",
      " [u'<' u'<' u'<' u'<' u'<' u'<' u'<' u'<']]\n"
     ]
    }
   ],
   "source": [
    "A2A=['<','v','>','^']\n",
    "def show_policy(initial_state):\n",
    "    grid = np.zeros((OBS_SQR,OBS_SQR), dtype='<U2')\n",
    "    for x in range(0,OBS_SQR):\n",
    "        for y in range(0,OBS_SQR):\n",
    "            my_state = initial_state.copy()\n",
    "            my_state[x,y] = 1\n",
    "\n",
    "            obs_predict = my_state.reshape(1,OBSERVATION_SPACE,)\n",
    "            obs_predict = np.squeeze(obs_predict)\n",
    "            index, = np.where(obs_predict == 1.)\n",
    "            action = np.argmax(q[index,:])\n",
    "            grid[x,y] = A2A[action]\n",
    "    grid\n",
    "    return grid\n",
    "\n",
    "env.reset()\n",
    "env.render()\n",
    "print(show_policy(STATEGRID))"
   ]
  },
  {
   "cell_type": "code",
   "execution_count": 65,
   "metadata": {},
   "outputs": [],
   "source": [
    "def play(render_every_step=False):\n",
    "    observation = env.reset()\n",
    "    done = False\n",
    "    reward = 0.0\n",
    "    max_moves = 50\n",
    "    move_counter = 0\n",
    "    while not done and move_counter < max_moves:\n",
    "        state = to_onehot(OBSERVATION_SPACE,observation)\n",
    "        #qval = actor_model.predict( state.reshape(1,OBSERVATION_SPACE) )\n",
    "        obs_predict = state.reshape(1,OBSERVATION_SPACE,)\n",
    "        obs_predict = np.squeeze(obs_predict)\n",
    "        index, = np.where(obs_predict == 1.)\n",
    "        action = np.argmax(q[index,:])\n",
    "        #action = (np.argmax(qval))\n",
    "        observation, reward, done, info = env.step(action)\n",
    "        print(A2A[action])\n",
    "        if render_every_step:\n",
    "            env.render()\n",
    "        move_counter += 1\n",
    "    env.render()"
   ]
  },
  {
   "cell_type": "code",
   "execution_count": 66,
   "metadata": {},
   "outputs": [
    {
     "name": "stdout",
     "output_type": "stream",
     "text": [
      "<\n",
      "  (Left)\n",
      "F\u001b[41mF\u001b[0mSFFFFF\n",
      "FHFFFFFF\n",
      "FFFHFFFF\n",
      "FFFFFFFH\n",
      "FFFFFFHF\n",
      "FFFFHFFF\n",
      "FFFHFFFF\n",
      "GFFFFFFF\n",
      "<\n",
      "  (Left)\n",
      "\u001b[41mF\u001b[0mFSFFFFF\n",
      "FHFFFFFF\n",
      "FFFHFFFF\n",
      "FFFFFFFH\n",
      "FFFFFFHF\n",
      "FFFFHFFF\n",
      "FFFHFFFF\n",
      "GFFFFFFF\n",
      "v\n",
      "  (Down)\n",
      "FFSFFFFF\n",
      "\u001b[41mF\u001b[0mHFFFFFF\n",
      "FFFHFFFF\n",
      "FFFFFFFH\n",
      "FFFFFFHF\n",
      "FFFFHFFF\n",
      "FFFHFFFF\n",
      "GFFFFFFF\n",
      "v\n",
      "  (Down)\n",
      "FFSFFFFF\n",
      "FHFFFFFF\n",
      "\u001b[41mF\u001b[0mFFHFFFF\n",
      "FFFFFFFH\n",
      "FFFFFFHF\n",
      "FFFFHFFF\n",
      "FFFHFFFF\n",
      "GFFFFFFF\n",
      "v\n",
      "  (Down)\n",
      "FFSFFFFF\n",
      "FHFFFFFF\n",
      "FFFHFFFF\n",
      "\u001b[41mF\u001b[0mFFFFFFH\n",
      "FFFFFFHF\n",
      "FFFFHFFF\n",
      "FFFHFFFF\n",
      "GFFFFFFF\n",
      "v\n",
      "  (Down)\n",
      "FFSFFFFF\n",
      "FHFFFFFF\n",
      "FFFHFFFF\n",
      "FFFFFFFH\n",
      "\u001b[41mF\u001b[0mFFFFFHF\n",
      "FFFFHFFF\n",
      "FFFHFFFF\n",
      "GFFFFFFF\n",
      "v\n",
      "  (Down)\n",
      "FFSFFFFF\n",
      "FHFFFFFF\n",
      "FFFHFFFF\n",
      "FFFFFFFH\n",
      "FFFFFFHF\n",
      "\u001b[41mF\u001b[0mFFFHFFF\n",
      "FFFHFFFF\n",
      "GFFFFFFF\n",
      "v\n",
      "  (Down)\n",
      "FFSFFFFF\n",
      "FHFFFFFF\n",
      "FFFHFFFF\n",
      "FFFFFFFH\n",
      "FFFFFFHF\n",
      "FFFFHFFF\n",
      "\u001b[41mF\u001b[0mFFHFFFF\n",
      "GFFFFFFF\n",
      "v\n",
      "  (Down)\n",
      "FFSFFFFF\n",
      "FHFFFFFF\n",
      "FFFHFFFF\n",
      "FFFFFFFH\n",
      "FFFFFFHF\n",
      "FFFFHFFF\n",
      "FFFHFFFF\n",
      "\u001b[41mG\u001b[0mFFFFFFF\n",
      "  (Down)\n",
      "FFSFFFFF\n",
      "FHFFFFFF\n",
      "FFFHFFFF\n",
      "FFFFFFFH\n",
      "FFFFFFHF\n",
      "FFFFHFFF\n",
      "FFFHFFFF\n",
      "\u001b[41mG\u001b[0mFFFFFFF\n"
     ]
    }
   ],
   "source": [
    "play(render_every_step=True)"
   ]
  },
  {
   "cell_type": "code",
   "execution_count": null,
   "metadata": {},
   "outputs": [],
   "source": []
  }
 ],
 "metadata": {
  "kernelspec": {
   "display_name": "Python [default]",
   "language": "python",
   "name": "python2"
  },
  "language_info": {
   "codemirror_mode": {
    "name": "ipython",
    "version": 2
   },
   "file_extension": ".py",
   "mimetype": "text/x-python",
   "name": "python",
   "nbconvert_exporter": "python",
   "pygments_lexer": "ipython2",
   "version": "2.7.15"
  }
 },
 "nbformat": 4,
 "nbformat_minor": 2
}
