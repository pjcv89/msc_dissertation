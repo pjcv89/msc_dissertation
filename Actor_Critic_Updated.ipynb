{
 "cells": [
  {
   "cell_type": "code",
   "execution_count": 1,
   "metadata": {},
   "outputs": [
    {
     "name": "stdout",
     "output_type": "stream",
     "text": [
      "Populating the interactive namespace from numpy and matplotlib\n"
     ]
    }
   ],
   "source": [
    "%pylab inline\n",
    "import logging\n",
    "logger = logging.getLogger()\n",
    "logger.setLevel(logging.ERROR)\n",
    "from IPython.display import clear_output\n",
    "import time\n",
    "import numpy as np\n",
    "import math\n",
    "import gym"
   ]
  },
  {
   "cell_type": "code",
   "execution_count": 2,
   "metadata": {},
   "outputs": [],
   "source": [
    "from IPython.display import clear_output\n",
    "import random\n",
    "import time\n",
    "from copy import deepcopy"
   ]
  },
  {
   "cell_type": "code",
   "execution_count": 4,
   "metadata": {},
   "outputs": [],
   "source": [
    "from keras.models import Sequential\n",
    "from keras.layers.core import Dense, Dropout, Activation\n",
    "from keras.optimizers import SGD\n",
    "from keras import backend as K\n",
    "from keras.layers import Lambda\n",
    "from keras.utils.np_utils import to_categorical   "
   ]
  },
  {
   "cell_type": "code",
   "execution_count": 4,
   "metadata": {},
   "outputs": [],
   "source": [
    "import myfrozen"
   ]
  },
  {
   "cell_type": "code",
   "execution_count": 5,
   "metadata": {},
   "outputs": [],
   "source": [
    "from gym.envs.registration import register, spec"
   ]
  },
  {
   "cell_type": "code",
   "execution_count": 6,
   "metadata": {},
   "outputs": [],
   "source": [
    "import h5py\n",
    "from keras.models import load_model"
   ]
  },
  {
   "cell_type": "code",
   "execution_count": 7,
   "metadata": {},
   "outputs": [],
   "source": [
    "def make_environment(name,seed,rowindex,colindex):\n",
    "    register(\n",
    "            id=name,\n",
    "            entry_point='myfrozen.fl_custom:FrozenLakeEnv',\n",
    "            kwargs={'map_name': '8x8', 'is_slippery': False,\n",
    "            'seed': seed, 'rowindex': rowindex, 'colindex': colindex},\n",
    "            timestep_limit=100,\n",
    "            reward_threshold=0.78,\n",
    "            )\n",
    "    env = gym.make(name)\n",
    "    return env"
   ]
  },
  {
   "cell_type": "code",
   "execution_count": 10,
   "metadata": {},
   "outputs": [
    {
     "name": "stdout",
     "output_type": "stream",
     "text": [
      "\n",
      "FFFFHFFF\n",
      "HFHFFHF\u001b[41mS\u001b[0m\n",
      "FFFFFFFF\n",
      "FFFFFFFF\n",
      "FFFFFFFF\n",
      "GFFHFFFF\n",
      "FFFFFFFF\n",
      "FHFFFFHF\n"
     ]
    }
   ],
   "source": [
    "iteration = 8\n",
    "name='FO8x8-v%d' % iteration\n",
    "env = make_environment(name,iteration,5,0)\n",
    "env.render()"
   ]
  },
  {
   "cell_type": "code",
   "execution_count": 12,
   "metadata": {},
   "outputs": [
    {
     "name": "stderr",
     "output_type": "stream",
     "text": [
      "/anaconda/envs/drl/lib/python2.7/site-packages/ipykernel/__main__.py:35: UserWarning: Update your `Dense` call to the Keras 2 API: `Dense(4, kernel_initializer=\"lecun_uniform\", input_shape=(64,))`\n",
      "/anaconda/envs/drl/lib/python2.7/site-packages/ipykernel/__main__.py:37: UserWarning: Update your `Dense` call to the Keras 2 API: `Dense(1, kernel_initializer=\"lecun_uniform\")`\n",
      "/anaconda/envs/drl/lib/python2.7/site-packages/ipykernel/__main__.py:18: UserWarning: Update your `Dense` call to the Keras 2 API: `Dense(4, kernel_initializer=\"lecun_uniform\", input_shape=(64,))`\n",
      "/anaconda/envs/drl/lib/python2.7/site-packages/ipykernel/__main__.py:20: UserWarning: Update your `Dense` call to the Keras 2 API: `Dense(128, kernel_initializer=\"lecun_uniform\")`\n",
      "/anaconda/envs/drl/lib/python2.7/site-packages/ipykernel/__main__.py:22: UserWarning: Update your `Dense` call to the Keras 2 API: `Dense(4, kernel_initializer=\"lecun_uniform\")`\n"
     ]
    },
    {
     "name": "stdout",
     "output_type": "stream",
     "text": [
      "_________________________________________________________________\n",
      "Layer (type)                 Output Shape              Param #   \n",
      "=================================================================\n",
      "dense_1 (Dense)              (None, 4)                 260       \n",
      "_________________________________________________________________\n",
      "activation_1 (Activation)    (None, 4)                 0         \n",
      "_________________________________________________________________\n",
      "dense_2 (Dense)              (None, 1)                 5         \n",
      "_________________________________________________________________\n",
      "activation_2 (Activation)    (None, 1)                 0         \n",
      "=================================================================\n",
      "Total params: 265\n",
      "Trainable params: 265\n",
      "Non-trainable params: 0\n",
      "_________________________________________________________________\n",
      "_________________________________________________________________\n",
      "Layer (type)                 Output Shape              Param #   \n",
      "=================================================================\n",
      "dense_3 (Dense)              (None, 4)                 260       \n",
      "_________________________________________________________________\n",
      "activation_3 (Activation)    (None, 4)                 0         \n",
      "_________________________________________________________________\n",
      "dense_4 (Dense)              (None, 128)               640       \n",
      "_________________________________________________________________\n",
      "activation_4 (Activation)    (None, 128)               0         \n",
      "_________________________________________________________________\n",
      "dense_5 (Dense)              (None, 4)                 516       \n",
      "_________________________________________________________________\n",
      "activation_5 (Activation)    (None, 4)                 0         \n",
      "=================================================================\n",
      "Total params: 1,416\n",
      "Trainable params: 1,416\n",
      "Non-trainable params: 0\n",
      "_________________________________________________________________\n"
     ]
    },
    {
     "name": "stderr",
     "output_type": "stream",
     "text": [
      "/anaconda/envs/drl/lib/python2.7/site-packages/keras/engine/saving.py:270: UserWarning: No training configuration found in save file: the model was *not* compiled. Compile it manually.\n",
      "  warnings.warn('No training configuration found in save file: '\n"
     ]
    },
    {
     "name": "stdout",
     "output_type": "stream",
     "text": [
      "[[u'v' u'v' u'<' u'<' u'v' u'<' u'v' u'<']\n",
      " [u'v' u'v' u'<' u'v' u'<' u'<' u'v' u'<']\n",
      " [u'v' u'v' u'<' u'<' u'<' u'v' u'v' u'<']\n",
      " [u'v' u'<' u'<' u'<' u'<' u'<' u'<' u'<']\n",
      " [u'v' u'<' u'v' u'<' u'v' u'v' u'<' u'<']\n",
      " [u'v' u'<' u'<' u'<' u'<' u'<' u'<' u'<']\n",
      " [u'v' u'<' u'<' u'<' u'<' u'v' u'<' u'<']\n",
      " [u'<' u'<' u'<' u'<' u'<' u'^' u'<' u'<']]\n"
     ]
    },
    {
     "name": "stderr",
     "output_type": "stream",
     "text": [
      "/anaconda/envs/drl/lib/python2.7/site-packages/keras/engine/saving.py:305: UserWarning: Error in loading the saved optimizer state. As a result, your model is starting with a freshly initialized optimizer.\n",
      "  warnings.warn('Error in loading the saved optimizer '\n"
     ]
    }
   ],
   "source": [
    "toy=ACTOR_CRITIC(env=env,warm_start=0)\n",
    "policy = toy.sample_generator(1)"
   ]
  },
  {
   "cell_type": "markdown",
   "metadata": {},
   "source": [
    "## The actor"
   ]
  },
  {
   "cell_type": "code",
   "execution_count": 30,
   "metadata": {},
   "outputs": [],
   "source": [
    "class ACTOR_CRITIC():\n",
    "    def __init__(self,env,warm_start):\n",
    "        self.env = env\n",
    "        self.warm_start = warm_start\n",
    "        self.OBSERVATION_SPACE = self.env.observation_space.n\n",
    "        self.ACTION_SPACE = self.env.action_space.n\n",
    "        # Build the critic\n",
    "        self.critic_model = self.build_critic()\n",
    "        # Build the actor\n",
    "        self.actor_model = self.build_actor()\n",
    "        # Recover the generator\n",
    "        self.generator = load_model('models/policies/generator.h5')\n",
    "        \n",
    "    def build_actor(self):\n",
    "        actor_model = Sequential()\n",
    "        actor_model.add(Dense(self.ACTION_SPACE, init='lecun_uniform', input_shape=(self.OBSERVATION_SPACE,)))\n",
    "        actor_model.add(Activation('relu'))\n",
    "        actor_model.add(Dense(128, init='lecun_uniform'))\n",
    "        actor_model.add(Activation('relu'))\n",
    "        actor_model.add(Dense(self.ACTION_SPACE, init='lecun_uniform'))\n",
    "        actor_model.add(Activation('linear'))\n",
    "        \n",
    "        actor_model.summary()\n",
    "\n",
    "        return actor_model\n",
    "\n",
    "    \n",
    "    def build_critic(self):\n",
    "        critic_model = Sequential()\n",
    "        critic_model.add(Dense(self.ACTION_SPACE, init='lecun_uniform', input_shape=(self.OBSERVATION_SPACE,)))\n",
    "        critic_model.add(Activation('relu'))\n",
    "        critic_model.add(Dense(1, init='lecun_uniform'))\n",
    "        critic_model.add(Activation('linear'))\n",
    "        \n",
    "        critic_model.summary()\n",
    "\n",
    "        return critic_model\n",
    "    \n",
    "    def trainer(self,epochs=1000,batchSize=30,gamma=0.975,epsilon=1,min_epsilon=0.1,buffer=40,policy=0):\n",
    "        \n",
    "        wins = 0\n",
    "        losses = 0\n",
    "        # Replay buffers\n",
    "        actor_replay = []\n",
    "        critic_replay = []\n",
    "        \n",
    "        wins_ws = 0\n",
    "        losses_ws = 0\n",
    "        #warm_start=self.warm_start\n",
    "        \n",
    "        optimizer = SGD(lr=0.1, decay=1e-6, momentum=0.9, nesterov=True)\n",
    "        \n",
    "        self.actor_model.compile(loss='mse', optimizer=optimizer)\n",
    "        self.critic_model.compile(loss='mse', optimizer=optimizer)\n",
    "        \n",
    "        #policy = self.sample_generator(1)\n",
    "        \n",
    "        OBS_SQR = int(math.sqrt(self.OBSERVATION_SPACE))\n",
    "        STATEGRID = np.zeros((OBS_SQR,OBS_SQR))\n",
    "        \n",
    "        self.env.reset()\n",
    "        self.env.render()\n",
    "        self.plot_value(STATEGRID)\n",
    "        \n",
    "        for i in range(epochs):\n",
    "\n",
    "            observation = self.env.reset()\n",
    "            done = False\n",
    "            reward = 0\n",
    "            info = None\n",
    "            move_counter = 0\n",
    "\n",
    "            while(not done):\n",
    "                # Get original state, original reward, and critic's value for this state.\n",
    "                orig_state = self.to_onehot(self.OBSERVATION_SPACE,observation)\n",
    "                orig_reward = reward\n",
    "                orig_val = self.critic_model.predict(orig_state.reshape(1,self.OBSERVATION_SPACE))\n",
    "\n",
    "                if (random.random() < epsilon): #choose random action\n",
    "                    action = np.random.randint(0,self.ACTION_SPACE)\n",
    "                else: #choose best action from Q(s,a) values\n",
    "                    if i < self.warm_start:\n",
    "                        obs_predict = np.squeeze(orig_state)\n",
    "                        index, = np.where(obs_predict == 1.)\n",
    "                        qval = self.actor_model.predict(orig_state.reshape(1,self.OBSERVATION_SPACE))\n",
    "                        action = np.argmax(policy[index,:])\n",
    "                        #action = np.argmax(policy[index,:])\n",
    "                    else:\n",
    "                        qval = self.actor_model.predict(orig_state.reshape(1,self.OBSERVATION_SPACE))\n",
    "                        action = (np.argmax(qval))\n",
    "                \n",
    "                #Take action, observe new state S'\n",
    "                new_observation, new_reward, done, info = self.env.step(action)\n",
    "                new_state = self.to_onehot(self.OBSERVATION_SPACE,new_observation)\n",
    "                # Critic's value for this new state.\n",
    "                new_val = self.critic_model.predict(new_state.reshape(1,self.OBSERVATION_SPACE))\n",
    "            \n",
    "                if not done: # Non-terminal state.\n",
    "                    target = orig_reward + ( gamma * new_val)\n",
    "                else:\n",
    "                    # In terminal states, the environment tells us\n",
    "                    # the value directly.\n",
    "                    target = orig_reward + ( gamma * new_reward )\n",
    "            \n",
    "            # For our critic, we select the best/highest value.. The\n",
    "            # value for this state is based on if the agent selected\n",
    "            # the best possible moves from this state forward.\n",
    "            # \n",
    "            # BTW, we discount an original value provided by the\n",
    "            # value network, to handle cases where its spitting\n",
    "            # out unreasonably high values.. naturally decaying\n",
    "            # these values to something reasonable.\n",
    "                if new_reward <0:\n",
    "                    best_val = new_reward\n",
    "                else:\n",
    "                    best_val = max((orig_val*gamma), target)\n",
    "                # Now append this to our critic replay buffer.\n",
    "                critic_replay.append([orig_state, best_val])\n",
    "                # If we are in a terminal state, append a replay for it also.\n",
    "                if done:\n",
    "                    critic_replay.append( [new_state, float(new_reward)] )\n",
    "            \n",
    "            # Build the update for the Actor. The actor is updated\n",
    "            # by using the difference of the value the critic\n",
    "            # placed on the old state vs. the value the critic\n",
    "            # places on the new state.. encouraging the actor\n",
    "            # to move into more valuable states.\n",
    "                actor_delta = new_val - orig_val                \n",
    "                actor_replay.append([orig_state, action, actor_delta])\n",
    "                    \n",
    "            # Critic Replays...\n",
    "                while(len(critic_replay) > buffer): # Trim replay buffer\n",
    "                    critic_replay.pop(0)\n",
    "            # Start training when we have enough samples.\n",
    "                if(len(critic_replay) >= buffer):\n",
    "                    minibatch = random.sample(critic_replay, batchSize)\n",
    "                    X_train = []\n",
    "                    y_train = []\n",
    "                    for memory in minibatch:\n",
    "                        m_state, m_value = memory\n",
    "                        y = np.empty([1])\n",
    "                        y[0] = m_value\n",
    "                        X_train.append(m_state.reshape((self.OBSERVATION_SPACE,)))\n",
    "                        y_train.append(y.reshape((1,)))\n",
    "                    X_train = np.array(X_train)\n",
    "                    y_train = np.array(y_train)\n",
    "                    self.critic_model.fit(X_train, y_train, batch_size=batchSize, nb_epoch=1, verbose=0)\n",
    "            \n",
    "                # Actor Replays...\n",
    "                while(len(actor_replay) > buffer):\n",
    "                    actor_replay.pop(0)                \n",
    "                if(len(actor_replay) >= buffer):\n",
    "                    X_train = []\n",
    "                    y_train = []\n",
    "                    minibatch = random.sample(actor_replay, batchSize)\n",
    "                    for memory in minibatch:\n",
    "                        m_orig_state, m_action, m_value = memory\n",
    "                        old_qval = self.actor_model.predict( m_orig_state.reshape(1,self.OBSERVATION_SPACE,) )\n",
    "                        y = np.zeros(( 1, self.ACTION_SPACE ))\n",
    "                        y[:] = old_qval[:]\n",
    "                        y[0][m_action] = m_value\n",
    "                        X_train.append(m_orig_state.reshape((self.OBSERVATION_SPACE,)))\n",
    "                        y_train.append(y.reshape((self.ACTION_SPACE,)))\n",
    "                    X_train = np.array(X_train)\n",
    "                    y_train = np.array(y_train)\n",
    "                    self.actor_model.fit(X_train, y_train, batch_size=batchSize, nb_epoch=1, verbose=0)\n",
    "\n",
    "                # Bookkeeping at the end of the turn.\n",
    "                observation = new_observation\n",
    "                reward = new_reward\n",
    "                move_counter+=1\n",
    "                if done:\n",
    "                    if new_reward > 0 : # Win\n",
    "                        wins += 1\n",
    "                    else: # Loss\n",
    "                        losses += 1\n",
    "            if i == (self.warm_start-1):\n",
    "                wins_ws = deepcopy(wins)\n",
    "                losses_ws = deepcopy(losses)\n",
    "            # Finised Epoch\n",
    "            clear_output(wait=True)\n",
    "            print(\"Game #: %s\" % (i,))\n",
    "            print(\"Moves this round %s\" % move_counter)\n",
    "            print(\"Final Position:\")\n",
    "            self.env.render()\n",
    "            print(\"Wins/Losses %s/%s\" % (wins, losses))\n",
    "            print(\"Wins/Losses before WS %s/%s\" % (wins_ws, losses_ws))\n",
    "            if epsilon > min_epsilon:\n",
    "                epsilon -= (1.0/epochs)\n",
    "                \n",
    "        self.plot_value(STATEGRID)\n",
    "        return self.actor_model, self.critic_model\n",
    "        \n",
    "    def to_onehot(self,size,value):\n",
    "        my_onehot = np.zeros((size))\n",
    "        my_onehot[value] = 1.0\n",
    "        return my_onehot\n",
    "    \n",
    "    def show_policy(self,q):\n",
    "        A2A=['<','v','>','^']\n",
    "        grid = np.zeros(self.OBSERVATION_SPACE, dtype='<U2')\n",
    "        for index in xrange(self.OBSERVATION_SPACE):\n",
    "            action = np.argmax(q[index,:])\n",
    "            grid[index] = A2A[action]\n",
    "        grid = np.reshape(grid, (8, 8), order='C')\n",
    "        print(grid)\n",
    "        return grid\n",
    "    \n",
    "    def sample_generator(self,trials):\n",
    "        for iteration in range(trials):\n",
    "            noise = np.random.normal(0, 1, (1, self.OBSERVATION_SPACE))\n",
    "            gen_imgs = self.generator.predict(noise)\n",
    "            gen_imgs = np.squeeze(gen_imgs, axis=0)\n",
    "            _ = self.show_policy(gen_imgs)\n",
    "        return gen_imgs\n",
    "    \n",
    "    def plot_value(self,initial_state):\n",
    "        obs_sqr = int(math.sqrt(self.OBSERVATION_SPACE))\n",
    "        np_w_cri_r = np.zeros((obs_sqr,obs_sqr))\n",
    "        working_state = initial_state.copy()\n",
    "        for x in range(0,obs_sqr):\n",
    "            for y in range(0,obs_sqr):\n",
    "                my_state = working_state.copy()\n",
    "                my_state[x,y] = 1\n",
    "                value = self.critic_model.predict(my_state.reshape(1, self.OBSERVATION_SPACE))\n",
    "                np_w_cri_r[x,y] = value\n",
    "        np_w_cri_r.shape\n",
    "        pylab.pcolor(np_w_cri_r)\n",
    "        pylab.title(\"Value Network\")\n",
    "        pylab.colorbar()\n",
    "        pylab.xlabel(\"X\")\n",
    "        pylab.ylabel(\"Y\")\n",
    "        pylab.gca().invert_yaxis()\n",
    "        pylab.draw()"
   ]
  },
  {
   "cell_type": "code",
   "execution_count": 80,
   "metadata": {},
   "outputs": [],
   "source": [
    "class ACTOR_CRITIC():\n",
    "    def __init__(self,env,warm_start):\n",
    "        self.env = env\n",
    "        self.warm_start = warm_start\n",
    "        self.OBSERVATION_SPACE = self.env.observation_space.n\n",
    "        self.ACTION_SPACE = self.env.action_space.n\n",
    "        # Build the critic\n",
    "        self.critic_model = self.build_critic()\n",
    "        # Build the actor\n",
    "        self.actor_model = self.build_actor()\n",
    "        # Recover the generator\n",
    "        self.generator = load_model('models/policies/generator.h5')\n",
    "        # Recover the discriminator\n",
    "        self.discriminator = load_model('models/policies/discriminator.h5')\n",
    "        \n",
    "    def build_actor(self):\n",
    "        actor_model = Sequential()\n",
    "        actor_model.add(Dense(self.ACTION_SPACE, init='lecun_uniform', input_shape=(self.OBSERVATION_SPACE,)))\n",
    "        actor_model.add(Activation('relu'))\n",
    "        actor_model.add(Dense(128, init='lecun_uniform'))\n",
    "        actor_model.add(Activation('relu'))\n",
    "        actor_model.add(Dense(self.ACTION_SPACE, init='lecun_uniform'))\n",
    "        actor_model.add(Activation('linear'))\n",
    "        \n",
    "        actor_model.summary()\n",
    "        \n",
    "        #a_optimizer = SGD(lr=0.1, decay=1e-6, momentum=0.9, nesterov=True)\n",
    "        #actor_model.compile(loss='mse', optimizer=a_optimizer)\n",
    "\n",
    "        return actor_model\n",
    "\n",
    "    \n",
    "    def build_critic(self):\n",
    "        critic_model = Sequential()\n",
    "        critic_model.add(Dense(self.ACTION_SPACE, init='lecun_uniform', input_shape=(self.OBSERVATION_SPACE,)))\n",
    "        critic_model.add(Activation('relu'))\n",
    "        critic_model.add(Dense(1, init='lecun_uniform'))\n",
    "        critic_model.add(Activation('linear'))\n",
    "        \n",
    "        critic_model.summary()\n",
    "        \n",
    "        #c_optimizer = SGD(lr=0.1, decay=1e-6, momentum=0.9, nesterov=True)\n",
    "        #critic_model.compile(loss='mse', optimizer=c_optimizer)\n",
    "\n",
    "        return critic_model\n",
    "    \n",
    "    def trainer(self,epochs=1000,batchSize=30,gamma=0.975,epsilon=1,min_epsilon=0.1,buffer=40,policy=0):\n",
    "        \n",
    "        wins = 0\n",
    "        losses = 0\n",
    "        # Replay buffers\n",
    "        actor_replay = []\n",
    "        critic_replay = []\n",
    "        \n",
    "        wins_ws = 0\n",
    "        losses_ws = 0\n",
    "        #warm_start=self.warm_start\n",
    "        \n",
    "        optimizer = SGD(lr=0.1, decay=1e-6, momentum=0.9, nesterov=True)\n",
    "        \n",
    "        self.actor_model.compile(loss='mse', optimizer=optimizer)\n",
    "        self.critic_model.compile(loss='mse', optimizer=optimizer)\n",
    "        \n",
    "        #policy = self.sample_generator(1)\n",
    "        \n",
    "        OBS_SQR = int(math.sqrt(self.OBSERVATION_SPACE))\n",
    "        STATEGRID = np.zeros((OBS_SQR,OBS_SQR))\n",
    "        \n",
    "        self.env.reset()\n",
    "        self.env.render()\n",
    "        self.plot_value(STATEGRID)\n",
    "        \n",
    "        previous_policy = np.reshape(np.ones(64),(8,8))\n",
    "        \n",
    "        for i in range(epochs):\n",
    "\n",
    "            observation = self.env.reset()\n",
    "            done = False\n",
    "            reward = 0\n",
    "            info = None\n",
    "            move_counter = 0\n",
    "            \n",
    "            policy_done = self.play()\n",
    "            current_policy = self.show_policy_actor()\n",
    "            \n",
    "            norm = self.compute_norm(previous_policy,current_policy)\n",
    "            print(norm)\n",
    "            if policy_done == True and norm == 0.0:\n",
    "                print(\"Converged\")\n",
    "                break\n",
    "            \n",
    "            #if policy_done == True:\n",
    "            #    print(\"Policy Done\")\n",
    "            #    break\n",
    "\n",
    "            while(not done):\n",
    "                # Get original state, original reward, and critic's value for this state.\n",
    "                orig_state = self.to_onehot(self.OBSERVATION_SPACE,observation)\n",
    "                orig_reward = reward\n",
    "                orig_val = self.critic_model.predict(orig_state.reshape(1,self.OBSERVATION_SPACE))\n",
    "\n",
    "                if (random.random() < epsilon): #choose random action\n",
    "                    action = np.random.randint(0,self.ACTION_SPACE)\n",
    "                else: #choose best action from Q(s,a) values\n",
    "                    if i < self.warm_start:\n",
    "                        obs_predict = np.squeeze(orig_state)\n",
    "                        index, = np.where(obs_predict == 1.)\n",
    "                        qval = self.actor_model.predict(orig_state.reshape(1,self.OBSERVATION_SPACE))\n",
    "                        action = np.argmax(policy[index,:])\n",
    "                        #action = np.argmax(policy[index,:])\n",
    "                    else:\n",
    "                        qval = self.actor_model.predict(orig_state.reshape(1,self.OBSERVATION_SPACE))\n",
    "                        action = (np.argmax(qval))\n",
    "                \n",
    "                #Take action, observe new state S'\n",
    "                new_observation, new_reward, done, info = self.env.step(action)\n",
    "                new_state = self.to_onehot(self.OBSERVATION_SPACE,new_observation)\n",
    "                # Critic's value for this new state.\n",
    "                new_val = self.critic_model.predict(new_state.reshape(1,self.OBSERVATION_SPACE))\n",
    "            \n",
    "                if not done: # Non-terminal state.\n",
    "                    target = orig_reward + ( gamma * new_val)\n",
    "                else:\n",
    "                    # In terminal states, the environment tells us\n",
    "                    # the value directly.\n",
    "                    target = orig_reward + ( gamma * new_reward )\n",
    "            \n",
    "            # For our critic, we select the best/highest value.. The\n",
    "            # value for this state is based on if the agent selected\n",
    "            # the best possible moves from this state forward.\n",
    "            # \n",
    "            # BTW, we discount an original value provided by the\n",
    "            # value network, to handle cases where its spitting\n",
    "            # out unreasonably high values.. naturally decaying\n",
    "            # these values to something reasonable.\n",
    "                if new_reward <0:\n",
    "                    best_val = new_reward\n",
    "                else:\n",
    "                    best_val = max((orig_val*gamma), target)\n",
    "                # Now append this to our critic replay buffer.\n",
    "                critic_replay.append([orig_state, best_val])\n",
    "                # If we are in a terminal state, append a replay for it also.\n",
    "                if done:\n",
    "                    critic_replay.append( [new_state, float(new_reward)] )\n",
    "            \n",
    "            # Build the update for the Actor. The actor is updated\n",
    "            # by using the difference of the value the critic\n",
    "            # placed on the old state vs. the value the critic\n",
    "            # places on the new state.. encouraging the actor\n",
    "            # to move into more valuable states.\n",
    "                actor_delta = new_val - orig_val                \n",
    "                actor_replay.append([orig_state, action, actor_delta])\n",
    "                    \n",
    "            # Critic Replays...\n",
    "                while(len(critic_replay) > buffer): # Trim replay buffer\n",
    "                    critic_replay.pop(0)\n",
    "            # Start training when we have enough samples.\n",
    "                if(len(critic_replay) >= buffer):\n",
    "                    minibatch = random.sample(critic_replay, batchSize)\n",
    "                    X_train = []\n",
    "                    y_train = []\n",
    "                    for memory in minibatch:\n",
    "                        m_state, m_value = memory\n",
    "                        y = np.empty([1])\n",
    "                        y[0] = m_value\n",
    "                        X_train.append(m_state.reshape((self.OBSERVATION_SPACE,)))\n",
    "                        y_train.append(y.reshape((1,)))\n",
    "                    X_train = np.array(X_train)\n",
    "                    y_train = np.array(y_train)\n",
    "                    self.critic_model.fit(X_train, y_train, batch_size=batchSize, nb_epoch=1, verbose=0)\n",
    "            \n",
    "                # Actor Replays...\n",
    "                while(len(actor_replay) > buffer):\n",
    "                    actor_replay.pop(0)                \n",
    "                if(len(actor_replay) >= buffer):\n",
    "                    X_train = []\n",
    "                    y_train = []\n",
    "                    minibatch = random.sample(actor_replay, batchSize)\n",
    "                    for memory in minibatch:\n",
    "                        m_orig_state, m_action, m_value = memory\n",
    "                        old_qval = self.actor_model.predict( m_orig_state.reshape(1,self.OBSERVATION_SPACE,) )\n",
    "                        y = np.zeros(( 1, self.ACTION_SPACE ))\n",
    "                        y[:] = old_qval[:]\n",
    "                        y[0][m_action] = m_value\n",
    "                        X_train.append(m_orig_state.reshape((self.OBSERVATION_SPACE,)))\n",
    "                        y_train.append(y.reshape((self.ACTION_SPACE,)))\n",
    "                    X_train = np.array(X_train)\n",
    "                    y_train = np.array(y_train)\n",
    "                    self.actor_model.fit(X_train, y_train, batch_size=batchSize, nb_epoch=1, verbose=0)\n",
    "\n",
    "                # Bookkeeping at the end of the turn.\n",
    "                observation = new_observation\n",
    "                reward = new_reward\n",
    "                move_counter+=1\n",
    "                if done:\n",
    "                    if new_reward > 0 : # Win\n",
    "                        wins += 1\n",
    "                    else: # Loss\n",
    "                        losses += 1\n",
    "            if i == (self.warm_start-1):\n",
    "                wins_ws = deepcopy(wins)\n",
    "                losses_ws = deepcopy(losses)\n",
    "            # Finised Epoch\n",
    "            \n",
    "            if i == 500 and wins < wins_threshold:\n",
    "                skip = True\n",
    "                break\n",
    "            clear_output(wait=True)\n",
    "            print(\"Game #: %s\" % (i,))\n",
    "            print(\"Moves this round %s\" % move_counter)\n",
    "            print(\"Final Position:\")\n",
    "            self.env.render()\n",
    "            print(\"Wins/Losses %s/%s\" % (wins, losses))\n",
    "            print(\"Wins/Losses before WS %s/%s\" % (wins_ws, losses_ws))\n",
    "            if epsilon > min_epsilon:\n",
    "                epsilon -= (1.0/epochs)\n",
    "                \n",
    "            previous_policy = current_policy\n",
    "        #self.plot_value(STATEGRID)\n",
    "        return self.actor_model, self.critic_model\n",
    "        \n",
    "    def to_onehot(self,size,value):\n",
    "        my_onehot = np.zeros((size))\n",
    "        my_onehot[value] = 1.0\n",
    "        return my_onehot\n",
    "    \n",
    "    def show_policy(self,q):\n",
    "        A2A=['<','v','>','^']\n",
    "        grid = np.zeros(self.OBSERVATION_SPACE, dtype='<U2')\n",
    "        for index in xrange(self.OBSERVATION_SPACE):\n",
    "            action = np.argmax(q[index,:])\n",
    "            grid[index] = A2A[action]\n",
    "        grid = np.reshape(grid, (8, 8), order='C')\n",
    "        return grid\n",
    "    \n",
    "    def compute_probability(self):\n",
    "        catlabels = to_categorical(self.make_policy(), num_classes=4)\n",
    "        return self.discriminator.predict(np.expand_dims(catlabels,axis=0))[0][0]\n",
    "        \n",
    "    def make_policy(self):\n",
    "        initial_state = np.zeros(64)\n",
    "        grid = np.zeros(64)\n",
    "        for x in range(0,64):\n",
    "            my_state = initial_state.copy()\n",
    "            my_state[x] = 1\n",
    "            obs_predict = my_state.reshape(1,64,)\n",
    "            qval = self.actor_model.predict(obs_predict)\n",
    "            action = (np.argmax(qval))\n",
    "            grid[x] = action\n",
    "        print(grid)\n",
    "        return grid\n",
    "        \n",
    "    def show_policy_actor(self):\n",
    "        initial_state = np.zeros((8,8))\n",
    "        A2A=['<','v','>','^']\n",
    "        grid = np.zeros((8,8), dtype='<U2')\n",
    "        gridnum = np.zeros((8,8))\n",
    "        for x in range(0,8):\n",
    "            for y in range(0,8):\n",
    "                my_state = initial_state.copy()\n",
    "                my_state[x,y] = 1\n",
    "                obs_predict = my_state.reshape(1,64,)\n",
    "                qval = self.actor_model.predict(obs_predict)\n",
    "                action = (np.argmax(qval))\n",
    "                gridnum[x,y] = action\n",
    "                grid[x,y] = A2A[action]\n",
    "        print(grid)\n",
    "        print(gridnum)\n",
    "        return gridnum\n",
    "    \n",
    "    def sample_generator(self,trials):\n",
    "        for iteration in range(trials):\n",
    "            noise = np.random.normal(0, 1, (1, self.OBSERVATION_SPACE))\n",
    "            gen_imgs = self.generator.predict(noise)\n",
    "            gen_imgs = np.squeeze(gen_imgs, axis=0)\n",
    "            _ = self.show_policy(gen_imgs)\n",
    "        return gen_imgs\n",
    "    \n",
    "    def plot_value(self,initial_state):\n",
    "        obs_sqr = int(math.sqrt(self.OBSERVATION_SPACE))\n",
    "        np_w_cri_r = np.zeros((obs_sqr,obs_sqr))\n",
    "        working_state = initial_state.copy()\n",
    "        for x in range(0,obs_sqr):\n",
    "            for y in range(0,obs_sqr):\n",
    "                my_state = working_state.copy()\n",
    "                my_state[x,y] = 1\n",
    "                value = self.critic_model.predict(my_state.reshape(1, self.OBSERVATION_SPACE))\n",
    "                np_w_cri_r[x,y] = value\n",
    "        np_w_cri_r.shape\n",
    "        pylab.pcolor(np_w_cri_r)\n",
    "        pylab.title(\"Value Network\")\n",
    "        pylab.colorbar()\n",
    "        pylab.xlabel(\"X\")\n",
    "        pylab.ylabel(\"Y\")\n",
    "        pylab.gca().invert_yaxis()\n",
    "        pylab.draw()\n",
    "    \n",
    "    def play(self,render_every_step=False):\n",
    "        policy_done = False\n",
    "        observation = self.env.reset()\n",
    "        done = False\n",
    "        reward = 0.0\n",
    "        max_moves = 40\n",
    "        move_counter = 0\n",
    "        while not done and move_counter < max_moves:\n",
    "            state = self.to_onehot(self.OBSERVATION_SPACE,observation)\n",
    "            qval = self.actor_model.predict(state.reshape(1,self.OBSERVATION_SPACE))\n",
    "            action = (np.argmax(qval))\n",
    "            observation, reward, done, info = self.env.step(action)\n",
    "            if render_every_step:\n",
    "                env.render()\n",
    "            move_counter += 1\n",
    "        if reward==1.0:\n",
    "            policy_done = True\n",
    "            print(\"Goal reached!\")\n",
    "        return policy_done\n",
    "    \n",
    "    def compute_norm(self,previous,current):\n",
    "        return np.linalg.norm(previous-current,'fro')"
   ]
  },
  {
   "cell_type": "code",
   "execution_count": 81,
   "metadata": {},
   "outputs": [
    {
     "name": "stderr",
     "output_type": "stream",
     "text": [
      "/anaconda/envs/drl/lib/python2.7/site-packages/ipykernel/__main__.py:35: UserWarning: Update your `Dense` call to the Keras 2 API: `Dense(4, kernel_initializer=\"lecun_uniform\", input_shape=(64,))`\n",
      "/anaconda/envs/drl/lib/python2.7/site-packages/ipykernel/__main__.py:37: UserWarning: Update your `Dense` call to the Keras 2 API: `Dense(1, kernel_initializer=\"lecun_uniform\")`\n",
      "/anaconda/envs/drl/lib/python2.7/site-packages/ipykernel/__main__.py:18: UserWarning: Update your `Dense` call to the Keras 2 API: `Dense(4, kernel_initializer=\"lecun_uniform\", input_shape=(64,))`\n",
      "/anaconda/envs/drl/lib/python2.7/site-packages/ipykernel/__main__.py:20: UserWarning: Update your `Dense` call to the Keras 2 API: `Dense(128, kernel_initializer=\"lecun_uniform\")`\n",
      "/anaconda/envs/drl/lib/python2.7/site-packages/ipykernel/__main__.py:22: UserWarning: Update your `Dense` call to the Keras 2 API: `Dense(4, kernel_initializer=\"lecun_uniform\")`\n"
     ]
    },
    {
     "name": "stdout",
     "output_type": "stream",
     "text": [
      "_________________________________________________________________\n",
      "Layer (type)                 Output Shape              Param #   \n",
      "=================================================================\n",
      "dense_71 (Dense)             (None, 4)                 260       \n",
      "_________________________________________________________________\n",
      "activation_71 (Activation)   (None, 4)                 0         \n",
      "_________________________________________________________________\n",
      "dense_72 (Dense)             (None, 1)                 5         \n",
      "_________________________________________________________________\n",
      "activation_72 (Activation)   (None, 1)                 0         \n",
      "=================================================================\n",
      "Total params: 265\n",
      "Trainable params: 265\n",
      "Non-trainable params: 0\n",
      "_________________________________________________________________\n",
      "_________________________________________________________________\n",
      "Layer (type)                 Output Shape              Param #   \n",
      "=================================================================\n",
      "dense_73 (Dense)             (None, 4)                 260       \n",
      "_________________________________________________________________\n",
      "activation_73 (Activation)   (None, 4)                 0         \n",
      "_________________________________________________________________\n",
      "dense_74 (Dense)             (None, 128)               640       \n",
      "_________________________________________________________________\n",
      "activation_74 (Activation)   (None, 128)               0         \n",
      "_________________________________________________________________\n",
      "dense_75 (Dense)             (None, 4)                 516       \n",
      "_________________________________________________________________\n",
      "activation_75 (Activation)   (None, 4)                 0         \n",
      "=================================================================\n",
      "Total params: 1,416\n",
      "Trainable params: 1,416\n",
      "Non-trainable params: 0\n",
      "_________________________________________________________________\n"
     ]
    }
   ],
   "source": [
    "actor_critic=ACTOR_CRITIC(env=env,warm_start=0)"
   ]
  },
  {
   "cell_type": "code",
   "execution_count": 82,
   "metadata": {},
   "outputs": [
    {
     "name": "stdout",
     "output_type": "stream",
     "text": [
      "Game #: 657\n",
      "Moves this round 1\n",
      "Final Position:\n",
      "  (Right)\n",
      "FFFFHFFF\n",
      "HFHFFHFS\n",
      "FFFFFFFF\n",
      "FFFFFFFF\n",
      "FFFFFFFF\n",
      "\u001b[41mG\u001b[0mFFHFFFF\n",
      "FFFFFFFF\n",
      "FHFFFFHF\n",
      "Wins/Losses 32/626\n",
      "Wins/Losses before WS 0/0\n",
      "Goal reached!\n",
      "[[u'<' u'v' u'<' u'<' u'<' u'^' u'v' u'v']\n",
      " [u'v' u'v' u'<' u'^' u'v' u'v' u'v' u'<']\n",
      " [u'v' u'<' u'<' u'<' u'v' u'<' u'<' u'<']\n",
      " [u'<' u'v' u'<' u'<' u'<' u'<' u'<' u'<']\n",
      " [u'v' u'<' u'<' u'<' u'<' u'<' u'<' u'<']\n",
      " [u'<' u'<' u'<' u'<' u'v' u'<' u'v' u'<']\n",
      " [u'<' u'<' u'<' u'<' u'<' u'<' u'<' u'<']\n",
      " [u'v' u'v' u'v' u'<' u'v' u'<' u'<' u'^']]\n",
      "[[0. 1. 0. 0. 0. 3. 1. 1.]\n",
      " [1. 1. 0. 3. 1. 1. 1. 0.]\n",
      " [1. 0. 0. 0. 1. 0. 0. 0.]\n",
      " [0. 1. 0. 0. 0. 0. 0. 0.]\n",
      " [1. 0. 0. 0. 0. 0. 0. 0.]\n",
      " [0. 0. 0. 0. 1. 0. 1. 0.]\n",
      " [0. 0. 0. 0. 0. 0. 0. 0.]\n",
      " [1. 1. 1. 0. 1. 0. 0. 3.]]\n",
      "0.0\n",
      "Converged\n"
     ]
    },
    {
     "data": {
      "image/png": "[encoded data removed]",
      "text/plain": [
       "<Figure size 432x288 with 2 Axes>"
      ]
     },
     "metadata": {},
     "output_type": "display_data"
    }
   ],
   "source": [
    "actor, critic = actor_critic.trainer(epochs=2000)"
   ]
  },
  {
   "cell_type": "code",
   "execution_count": 94,
   "metadata": {},
   "outputs": [
    {
     "name": "stderr",
     "output_type": "stream",
     "text": [
      "/anaconda/envs/drl/lib/python2.7/site-packages/ipykernel/__main__.py:35: UserWarning: Update your `Dense` call to the Keras 2 API: `Dense(4, kernel_initializer=\"lecun_uniform\", input_shape=(64,))`\n",
      "/anaconda/envs/drl/lib/python2.7/site-packages/ipykernel/__main__.py:37: UserWarning: Update your `Dense` call to the Keras 2 API: `Dense(1, kernel_initializer=\"lecun_uniform\")`\n",
      "/anaconda/envs/drl/lib/python2.7/site-packages/ipykernel/__main__.py:18: UserWarning: Update your `Dense` call to the Keras 2 API: `Dense(4, kernel_initializer=\"lecun_uniform\", input_shape=(64,))`\n",
      "/anaconda/envs/drl/lib/python2.7/site-packages/ipykernel/__main__.py:20: UserWarning: Update your `Dense` call to the Keras 2 API: `Dense(128, kernel_initializer=\"lecun_uniform\")`\n",
      "/anaconda/envs/drl/lib/python2.7/site-packages/ipykernel/__main__.py:22: UserWarning: Update your `Dense` call to the Keras 2 API: `Dense(4, kernel_initializer=\"lecun_uniform\")`\n"
     ]
    },
    {
     "name": "stdout",
     "output_type": "stream",
     "text": [
      "_________________________________________________________________\n",
      "Layer (type)                 Output Shape              Param #   \n",
      "=================================================================\n",
      "dense_81 (Dense)             (None, 4)                 260       \n",
      "_________________________________________________________________\n",
      "activation_81 (Activation)   (None, 4)                 0         \n",
      "_________________________________________________________________\n",
      "dense_82 (Dense)             (None, 1)                 5         \n",
      "_________________________________________________________________\n",
      "activation_82 (Activation)   (None, 1)                 0         \n",
      "=================================================================\n",
      "Total params: 265\n",
      "Trainable params: 265\n",
      "Non-trainable params: 0\n",
      "_________________________________________________________________\n",
      "_________________________________________________________________\n",
      "Layer (type)                 Output Shape              Param #   \n",
      "=================================================================\n",
      "dense_83 (Dense)             (None, 4)                 260       \n",
      "_________________________________________________________________\n",
      "activation_83 (Activation)   (None, 4)                 0         \n",
      "_________________________________________________________________\n",
      "dense_84 (Dense)             (None, 128)               640       \n",
      "_________________________________________________________________\n",
      "activation_84 (Activation)   (None, 128)               0         \n",
      "_________________________________________________________________\n",
      "dense_85 (Dense)             (None, 4)                 516       \n",
      "_________________________________________________________________\n",
      "activation_85 (Activation)   (None, 4)                 0         \n",
      "=================================================================\n",
      "Total params: 1,416\n",
      "Trainable params: 1,416\n",
      "Non-trainable params: 0\n",
      "_________________________________________________________________\n"
     ]
    }
   ],
   "source": [
    "actor_critic_ws=ACTOR_CRITIC(env=env,warm_start=200)"
   ]
  },
  {
   "cell_type": "code",
   "execution_count": 92,
   "metadata": {},
   "outputs": [
    {
     "name": "stdout",
     "output_type": "stream",
     "text": [
      "[[u'v' u'v' u'<' u'<' u'<' u'<' u'v' u'<']\n",
      " [u'v' u'v' u'<' u'<' u'<' u'<' u'v' u'<']\n",
      " [u'v' u'<' u'<' u'<' u'<' u'<' u'v' u'<']\n",
      " [u'v' u'<' u'<' u'<' u'v' u'<' u'<' u'<']\n",
      " [u'v' u'<' u'v' u'<' u'v' u'v' u'<' u'<']\n",
      " [u'v' u'<' u'<' u'<' u'<' u'<' u'<' u'<']\n",
      " [u'v' u'<' u'<' u'<' u'<' u'v' u'<' u'<']\n",
      " [u'<' u'<' u'<' u'<' u'<' u'<' u'<' u'<']]\n"
     ]
    }
   ],
   "source": [
    "policy = toy.sample_generator(1)"
   ]
  },
  {
   "cell_type": "code",
   "execution_count": 95,
   "metadata": {},
   "outputs": [
    {
     "name": "stdout",
     "output_type": "stream",
     "text": [
      "Game #: 205\n",
      "Moves this round 1\n",
      "Final Position:\n",
      "  (Up)\n",
      "FFFFHFFF\n",
      "HFHFFHFS\n",
      "FFFFFFFF\n",
      "FFFFFFFF\n",
      "FFFFFFFF\n",
      "\u001b[41mG\u001b[0mFFHFFFF\n",
      "FFFFFFFF\n",
      "FHFFFFHF\n",
      "Wins/Losses 14/192\n",
      "Wins/Losses before WS 14/186\n",
      "Goal reached!\n",
      "[[u'>' u'<' u'<' u'>' u'<' u'>' u'>' u'<']\n",
      " [u'<' u'<' u'<' u'>' u'<' u'<' u'v' u'<']\n",
      " [u'v' u'<' u'<' u'<' u'<' u'<' u'<' u'<']\n",
      " [u'v' u'<' u'<' u'<' u'>' u'<' u'<' u'^']\n",
      " [u'v' u'<' u'<' u'<' u'<' u'<' u'<' u'<']\n",
      " [u'<' u'>' u'<' u'<' u'>' u'^' u'<' u'<']\n",
      " [u'<' u'<' u'<' u'<' u'<' u'<' u'<' u'<']\n",
      " [u'<' u'<' u'v' u'<' u'<' u'<' u'<' u'>']]\n",
      "[[2. 0. 0. 2. 0. 2. 2. 0.]\n",
      " [0. 0. 0. 2. 0. 0. 1. 0.]\n",
      " [1. 0. 0. 0. 0. 0. 0. 0.]\n",
      " [1. 0. 0. 0. 2. 0. 0. 3.]\n",
      " [1. 0. 0. 0. 0. 0. 0. 0.]\n",
      " [0. 2. 0. 0. 2. 3. 0. 0.]\n",
      " [0. 0. 0. 0. 0. 0. 0. 0.]\n",
      " [0. 0. 1. 0. 0. 0. 0. 2.]]\n",
      "0.0\n",
      "Converged\n"
     ]
    },
    {
     "data": {
      "image/png": "[encoded data removed]",
      "text/plain": [
       "<Figure size 432x288 with 2 Axes>"
      ]
     },
     "metadata": {},
     "output_type": "display_data"
    }
   ],
   "source": [
    "actor_ws, critic_ws = actor_critic_ws.trainer(epochs=2000,epsilon=0.5,policy=policy)"
   ]
  },
  {
   "cell_type": "code",
   "execution_count": 42,
   "metadata": {},
   "outputs": [
    {
     "name": "stdout",
     "output_type": "stream",
     "text": [
      "Game #: 378\n",
      "Moves this round 5\n",
      "Final Position:\n",
      "  (Down)\n",
      "FFFFHFFF\n",
      "HFHFFHFS\n",
      "FFFFFFFF\n",
      "FFFFFFFF\n",
      "FFFFFFFF\n",
      "\u001b[41mG\u001b[0mFFHFFFF\n",
      "FFFFFFFF\n",
      "FHFFFFHF\n",
      "Wins/Losses 40/339\n",
      "Wins/Losses before WS 22/78\n",
      "Goal reached!\n",
      "[[u'<' u'^' u'^' u'<' u'^' u'^' u'<' u'<']\n",
      " [u'<' u'v' u'<' u'>' u'v' u'>' u'v' u'<']\n",
      " [u'v' u'<' u'<' u'<' u'<' u'<' u'<' u'<']\n",
      " [u'v' u'<' u'<' u'>' u'<' u'<' u'<' u'<']\n",
      " [u'v' u'<' u'^' u'<' u'<' u'<' u'<' u'<']\n",
      " [u'v' u'<' u'<' u'<' u'^' u'v' u'<' u'<']\n",
      " [u'<' u'v' u'v' u'v' u'v' u'<' u'>' u'<']\n",
      " [u'^' u'<' u'>' u'<' u'<' u'<' u'v' u'^']]\n",
      "Policy Done\n"
     ]
    },
    {
     "data": {
      "image/png": "[encoded data removed]",
      "text/plain": [
       "<Figure size 432x288 with 2 Axes>"
      ]
     },
     "metadata": {},
     "output_type": "display_data"
    }
   ],
   "source": [
    "actor_ws, critic_ws = actor_critic_ws.trainer(epochs=1000,epsilon=0.5,policy=policy)"
   ]
  },
  {
   "cell_type": "markdown",
   "metadata": {},
   "source": [
    "## The Critic"
   ]
  },
  {
   "cell_type": "markdown",
   "metadata": {},
   "source": [
    "## Plotting "
   ]
  },
  {
   "cell_type": "code",
   "execution_count": 16,
   "metadata": {},
   "outputs": [],
   "source": [
    "# Plot out the values the critic gives for the agent being in\n",
    "# a specific state, i.e. in a specific location in the env.\n",
    "def plot_value(critic_model):\n",
    "    # Assume gridworld is always a square\n",
    "    initial_state = np.zeros((8,8))\n",
    "    obs_sqr = math.sqrt(64)\n",
    "    np_w_cri_r = np.zeros((8,8))\n",
    "    # make a working copy.\n",
    "    working_state = initial_state.copy()\n",
    "    for x in range(0,8):\n",
    "        for y in range(0,8):\n",
    "            my_state = working_state.copy()\n",
    "            # Place the player at a given X/Y location.\n",
    "            my_state[x,y] = 1\n",
    "            # And now have the critic model predict the state value\n",
    "            # with the player in that location.\n",
    "            value = critic_model.predict(my_state.reshape(1, 64))\n",
    "            np_w_cri_r[x,y] = value\n",
    "    np_w_cri_r.shape\n",
    "    pylab.pcolor(np_w_cri_r)\n",
    "    pylab.title(\"Value Network\")\n",
    "    pylab.colorbar()\n",
    "    pylab.xlabel(\"X\")\n",
    "    pylab.ylabel(\"Y\")\n",
    "    pylab.gca().invert_yaxis()\n",
    "    pylab.draw()"
   ]
  },
  {
   "cell_type": "code",
   "execution_count": 96,
   "metadata": {},
   "outputs": [
    {
     "name": "stdout",
     "output_type": "stream",
     "text": [
      "\n",
      "FFFFHFFF\n",
      "HFHFFHF\u001b[41mS\u001b[0m\n",
      "FFFFFFFF\n",
      "FFFFFFFF\n",
      "FFFFFFFF\n",
      "GFFHFFFF\n",
      "FFFFFFFF\n",
      "FHFFFFHF\n"
     ]
    },
    {
     "data": {
      "image/png": "[encoded data removed]",
      "text/plain": [
       "<Figure size 432x288 with 2 Axes>"
      ]
     },
     "metadata": {},
     "output_type": "display_data"
    }
   ],
   "source": [
    "env.reset()\n",
    "env.render()\n",
    "plot_value(critic_ws)"
   ]
  },
  {
   "cell_type": "code",
   "execution_count": 83,
   "metadata": {},
   "outputs": [
    {
     "name": "stdout",
     "output_type": "stream",
     "text": [
      "\n",
      "FFFFHFFF\n",
      "HFHFFHF\u001b[41mS\u001b[0m\n",
      "FFFFFFFF\n",
      "FFFFFFFF\n",
      "FFFFFFFF\n",
      "GFFHFFFF\n",
      "FFFFFFFF\n",
      "FHFFFFHF\n"
     ]
    },
    {
     "data": {
      "image/png": "[encoded data removed]",
      "text/plain": [
       "<Figure size 432x288 with 2 Axes>"
      ]
     },
     "metadata": {},
     "output_type": "display_data"
    }
   ],
   "source": [
    "env.reset()\n",
    "env.render()\n",
    "plot_value(critic)"
   ]
  },
  {
   "cell_type": "code",
   "execution_count": 23,
   "metadata": {},
   "outputs": [],
   "source": [
    "def show_policy(actor_model):\n",
    "    initial_state = np.zeros((8,8))\n",
    "    A2A=['<','v','>','^']\n",
    "    grid = np.zeros((8,8), dtype='<U2')\n",
    "    for x in range(0,8):\n",
    "        for y in range(0,8):\n",
    "            my_state = initial_state.copy()\n",
    "            my_state[x,y] = 1\n",
    "            obs_predict = my_state.reshape(1,64,)\n",
    "            qval = actor_model.predict(obs_predict)\n",
    "            action = (np.argmax(qval))\n",
    "            grid[x,y] = A2A[action]\n",
    "    grid\n",
    "    return grid"
   ]
  },
  {
   "cell_type": "code",
   "execution_count": 27,
   "metadata": {},
   "outputs": [],
   "source": [
    "def make_policy(actor_model):\n",
    "    initial_state = np.zeros(64)\n",
    "    grid = np.zeros(64)\n",
    "    for x in range(0,64):\n",
    "        my_state = initial_state.copy()\n",
    "        my_state[x] = 1\n",
    "        obs_predict = my_state.reshape(1,64,)\n",
    "        qval = actor_model.predict(obs_predict)\n",
    "        action = (np.argmax(qval))\n",
    "        grid[x] = action\n",
    "    grid\n",
    "    return grid"
   ]
  },
  {
   "cell_type": "code",
   "execution_count": 28,
   "metadata": {},
   "outputs": [
    {
     "data": {
      "text/plain": [
       "array([0., 0., 2., 0., 2., 3., 2., 2., 2., 2., 2., 2., 0., 2., 2., 2., 2.,\n",
       "       2., 2., 2., 2., 2., 2., 2., 2., 2., 2., 2., 2., 2., 2., 2., 2., 2.,\n",
       "       2., 0., 2., 2., 2., 2., 2., 0., 2., 2., 2., 2., 2., 2., 2., 2., 2.,\n",
       "       2., 2., 2., 0., 2., 2., 2., 2., 2., 2., 0., 2., 2.])"
      ]
     },
     "execution_count": 28,
     "metadata": {},
     "output_type": "execute_result"
    }
   ],
   "source": [
    "make_policy(actor)"
   ]
  },
  {
   "cell_type": "code",
   "execution_count": 98,
   "metadata": {},
   "outputs": [
    {
     "name": "stdout",
     "output_type": "stream",
     "text": [
      "(64, 4)\n"
     ]
    }
   ],
   "source": [
    "categorical_labels = to_categorical(make_policy(actor), num_classes=4)\n",
    "print(categorical_labels)"
   ]
  },
  {
   "cell_type": "code",
   "execution_count": 84,
   "metadata": {},
   "outputs": [
    {
     "name": "stdout",
     "output_type": "stream",
     "text": [
      "\n",
      "FFFFHFFF\n",
      "HFHFFHF\u001b[41mS\u001b[0m\n",
      "FFFFFFFF\n",
      "FFFFFFFF\n",
      "FFFFFFFF\n",
      "GFFHFFFF\n",
      "FFFFFFFF\n",
      "FHFFFFHF\n",
      "[[u'<' u'v' u'<' u'<' u'<' u'^' u'v' u'v']\n",
      " [u'v' u'v' u'<' u'^' u'v' u'v' u'v' u'<']\n",
      " [u'v' u'<' u'<' u'<' u'v' u'<' u'<' u'<']\n",
      " [u'<' u'v' u'<' u'<' u'<' u'<' u'<' u'<']\n",
      " [u'v' u'<' u'<' u'<' u'<' u'<' u'<' u'<']\n",
      " [u'<' u'<' u'<' u'<' u'v' u'<' u'v' u'<']\n",
      " [u'<' u'<' u'<' u'<' u'<' u'<' u'<' u'<']\n",
      " [u'v' u'v' u'v' u'<' u'v' u'<' u'<' u'^']]\n"
     ]
    }
   ],
   "source": [
    "env.reset()\n",
    "env.render()\n",
    "print(show_policy(actor))"
   ]
  },
  {
   "cell_type": "code",
   "execution_count": 97,
   "metadata": {},
   "outputs": [
    {
     "name": "stdout",
     "output_type": "stream",
     "text": [
      "\n",
      "FFFFHFFF\n",
      "HFHFFHF\u001b[41mS\u001b[0m\n",
      "FFFFFFFF\n",
      "FFFFFFFF\n",
      "FFFFFFFF\n",
      "GFFHFFFF\n",
      "FFFFFFFF\n",
      "FHFFFFHF\n",
      "[[u'>' u'<' u'<' u'>' u'<' u'>' u'>' u'<']\n",
      " [u'<' u'<' u'<' u'>' u'<' u'<' u'v' u'<']\n",
      " [u'v' u'<' u'<' u'<' u'<' u'<' u'<' u'<']\n",
      " [u'v' u'<' u'<' u'<' u'>' u'<' u'<' u'^']\n",
      " [u'v' u'<' u'<' u'<' u'<' u'<' u'<' u'<']\n",
      " [u'<' u'>' u'<' u'<' u'>' u'^' u'<' u'<']\n",
      " [u'<' u'<' u'<' u'<' u'<' u'<' u'<' u'<']\n",
      " [u'<' u'<' u'v' u'<' u'<' u'<' u'<' u'>']]\n"
     ]
    }
   ],
   "source": [
    "env.reset()\n",
    "env.render()\n",
    "print(show_policy(actor_ws))"
   ]
  },
  {
   "cell_type": "markdown",
   "metadata": {},
   "source": [
    "### Showing Policy"
   ]
  },
  {
   "cell_type": "code",
   "execution_count": 86,
   "metadata": {},
   "outputs": [],
   "source": [
    "def play(env,actor_model,render_every_step=False):\n",
    "    observation = env.reset()\n",
    "    done = False\n",
    "    reward = 0.0\n",
    "    max_moves = 40\n",
    "    move_counter = 0\n",
    "    while not done and move_counter < max_moves:\n",
    "        state = toy.to_onehot(64,observation)\n",
    "        qval = actor_model.predict( state.reshape(1,64) )\n",
    "        action = (np.argmax(qval))\n",
    "        observation, reward, done, info = env.step(action)\n",
    "        if render_every_step:\n",
    "            env.render()\n",
    "        move_counter += 1\n",
    "    if reward==1.0:\n",
    "        print(\"Goal reached!\")\n",
    "    env.render()"
   ]
  },
  {
   "cell_type": "code",
   "execution_count": 87,
   "metadata": {},
   "outputs": [
    {
     "name": "stdout",
     "output_type": "stream",
     "text": [
      "Goal reached!\n",
      "  (Down)\n",
      "FFFFHFFF\n",
      "HFHFFHFS\n",
      "FFFFFFFF\n",
      "FFFFFFFF\n",
      "FFFFFFFF\n",
      "\u001b[41mG\u001b[0mFFHFFFF\n",
      "FFFFFFFF\n",
      "FHFFFFHF\n"
     ]
    }
   ],
   "source": [
    "play(env,actor)"
   ]
  },
  {
   "cell_type": "code",
   "execution_count": 98,
   "metadata": {},
   "outputs": [
    {
     "name": "stdout",
     "output_type": "stream",
     "text": [
      "Goal reached!\n",
      "  (Down)\n",
      "FFFFHFFF\n",
      "HFHFFHFS\n",
      "FFFFFFFF\n",
      "FFFFFFFF\n",
      "FFFFFFFF\n",
      "\u001b[41mG\u001b[0mFFHFFFF\n",
      "FFFFFFFF\n",
      "FHFFFFHF\n"
     ]
    }
   ],
   "source": [
    "play(env,actor_ws)"
   ]
  },
  {
   "cell_type": "markdown",
   "metadata": {},
   "source": [
    "## IDEAS"
   ]
  },
  {
   "cell_type": "code",
   "execution_count": 25,
   "metadata": {},
   "outputs": [],
   "source": [
    "discriminator = load_model('models/policies/discriminator.h5')"
   ]
  },
  {
   "cell_type": "code",
   "execution_count": 100,
   "metadata": {},
   "outputs": [
    {
     "data": {
      "text/plain": [
       "0.26046354"
      ]
     },
     "execution_count": 100,
     "metadata": {},
     "output_type": "execute_result"
    }
   ],
   "source": [
    "discriminator.predict(np.expand_dims(policy,axis=0))[0][0]"
   ]
  },
  {
   "cell_type": "code",
   "execution_count": 146,
   "metadata": {},
   "outputs": [
    {
     "data": {
      "text/plain": [
       "array([[u'<', u'<', u'<', u'v', u'<', u'<', u'<', u'<'],\n",
       "       [u'<', u'<', u'<', u'<', u'<', u'<', u'<', u'<'],\n",
       "       [u'<', u'<', u'<', u'<', u'<', u'<', u'<', u'<'],\n",
       "       [u'<', u'<', u'<', u'<', u'^', u'<', u'<', u'<'],\n",
       "       [u'<', u'<', u'<', u'^', u'<', u'<', u'^', u'<'],\n",
       "       [u'<', u'<', u'<', u'<', u'v', u'<', u'<', u'<'],\n",
       "       [u'<', u'<', u'<', u'^', u'<', u'<', u'<', u'<'],\n",
       "       [u'^', u'v', u'<', u'<', u'<', u'<', u'<', u'v']], dtype='<U2')"
      ]
     },
     "execution_count": 146,
     "metadata": {},
     "output_type": "execute_result"
    }
   ],
   "source": [
    "show_policy(actor_ws)"
   ]
  },
  {
   "cell_type": "code",
   "execution_count": 106,
   "metadata": {},
   "outputs": [
    {
     "ename": "NameError",
     "evalue": "name 'categorical_labels' is not defined",
     "output_type": "error",
     "traceback": [
      "\u001b[0;31m---------------------------------------------------------------------------\u001b[0m",
      "\u001b[0;31mNameError\u001b[0m                                 Traceback (most recent call last)",
      "\u001b[0;32m<ipython-input-106-3f146f6eb28b>\u001b[0m in \u001b[0;36m<module>\u001b[0;34m()\u001b[0m\n\u001b[0;32m----> 1\u001b[0;31m \u001b[0mdiscriminator\u001b[0m\u001b[0;34m.\u001b[0m\u001b[0mpredict\u001b[0m\u001b[0;34m(\u001b[0m\u001b[0mnp\u001b[0m\u001b[0;34m.\u001b[0m\u001b[0mexpand_dims\u001b[0m\u001b[0;34m(\u001b[0m\u001b[0mcategorical_labels\u001b[0m\u001b[0;34m,\u001b[0m\u001b[0maxis\u001b[0m\u001b[0;34m=\u001b[0m\u001b[0;36m0\u001b[0m\u001b[0;34m)\u001b[0m\u001b[0;34m)\u001b[0m\u001b[0;34m[\u001b[0m\u001b[0;36m0\u001b[0m\u001b[0;34m]\u001b[0m\u001b[0;34m[\u001b[0m\u001b[0;36m0\u001b[0m\u001b[0;34m]\u001b[0m\u001b[0;34m\u001b[0m\u001b[0m\n\u001b[0m",
      "\u001b[0;31mNameError\u001b[0m: name 'categorical_labels' is not defined"
     ]
    }
   ],
   "source": [
    "discriminator.predict(np.expand_dims(categorical_labels,axis=0))[0][0]"
   ]
  },
  {
   "cell_type": "code",
   "execution_count": 99,
   "metadata": {},
   "outputs": [
    {
     "data": {
      "text/plain": [
       "0.0"
      ]
     },
     "execution_count": 99,
     "metadata": {},
     "output_type": "execute_result"
    }
   ],
   "source": [
    "discriminator.predict(np.expand_dims(np.random.randint(2, size=(64, 4)),axis=0))[0][0]"
   ]
  },
  {
   "cell_type": "code",
   "execution_count": 108,
   "metadata": {},
   "outputs": [
    {
     "data": {
      "text/plain": [
       "array([[6.654189e-11]], dtype=float32)"
      ]
     },
     "execution_count": 108,
     "metadata": {},
     "output_type": "execute_result"
    }
   ],
   "source": [
    "discriminator.predict(np.expand_dims(to_categorical(make_policy(actor_ws)),axis=0))"
   ]
  },
  {
   "cell_type": "code",
   "execution_count": null,
   "metadata": {},
   "outputs": [],
   "source": []
  }
 ],
 "metadata": {
  "kernelspec": {
   "display_name": "Python [default]",
   "language": "python",
   "name": "python2"
  },
  "language_info": {
   "codemirror_mode": {
    "name": "ipython",
    "version": 2
   },
   "file_extension": ".py",
   "mimetype": "text/x-python",
   "name": "python",
   "nbconvert_exporter": "python",
   "pygments_lexer": "ipython2",
   "version": "2.7.15"
  }
 },
 "nbformat": 4,
 "nbformat_minor": 2
}
